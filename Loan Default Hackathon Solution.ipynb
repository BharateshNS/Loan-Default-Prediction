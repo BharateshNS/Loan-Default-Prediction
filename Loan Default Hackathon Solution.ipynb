{
 "cells": [
  {
   "cell_type": "markdown",
   "id": "5803d314",
   "metadata": {},
   "source": [
    "# Loan Default Prediction"
   ]
  },
  {
   "cell_type": "markdown",
   "id": "6d14eba9",
   "metadata": {},
   "source": [
    "* Can you predict if an applicant will default the loan or not in the future?"
   ]
  },
  {
   "cell_type": "markdown",
   "id": "a271f6a7",
   "metadata": {},
   "source": [
    "## Problem Statement"
   ]
  },
  {
   "cell_type": "markdown",
   "id": "ca8278b2",
   "metadata": {},
   "source": [
    "* MyHom is a finance company that lends housing loans at the best and most affordable interest rates to customers. In recent times, the company incurred heavy losses due to loan defaults. Most applicants failed to repay the loan as per the promissory note.\n",
    "\n",
    "\n",
    "* In order to avoid such losses, the company has decided to build a system for identifying the loan defaulters automatically based on data. This will help the company to identify the potential applicants and ensure the smooth running of the entire process.\n",
    "\n",
    "\n",
    "* Now, the company challenges the Data Science community to build a smart AI system to predict the probability of an applicant defaulting the loan or not in the future.\n"
   ]
  },
  {
   "cell_type": "markdown",
   "id": "9fde8294",
   "metadata": {},
   "source": [
    "## About the Dataset\n",
    "\n"
   ]
  },
  {
   "cell_type": "markdown",
   "id": "17732082",
   "metadata": {},
   "source": [
    "* Here we have the past applicant’s data containing the demographic information, loan attributes, and target variable indicating if an applicant will default the loan or not.\n",
    "* Here we have 3 files - train.csv, test.csv, and sample_submission.csv\n"
   ]
  },
  {
   "cell_type": "markdown",
   "id": "9fbed4b7",
   "metadata": {},
   "source": [
    "## Train and Test Data\n",
    "\n"
   ]
  },
  {
   "cell_type": "markdown",
   "id": "00c42740",
   "metadata": {},
   "source": [
    "* The train and test set contains the different attributes related to demographic and loan information of the applicants such as age, profession, no. of active loans, loan default in previous loans, and so on. The training set contains the target variable loan_default and you need to predict the target variable in the test set."
   ]
  },
  {
   "cell_type": "markdown",
   "id": "2100d9e5",
   "metadata": {},
   "source": [
    "##  Data Defination"
   ]
  },
  {
   "cell_type": "markdown",
   "id": "4c1a1edb",
   "metadata": {},
   "source": [
    "**1)loan_id :Unique identifier of a loan**\n",
    "\n",
    "**2)age : Age of the Applicant**\n",
    "\n",
    "**3)Education :Applicant Education**\n",
    "\n",
    "**4)proof_submitted :Type of proof submitted**\n",
    "\n",
    "**5)loan_amount :Loan Amount Disbursed**\n",
    "\n",
    "**6)asset_cost :The total asset value of the applicant**\n",
    "\n",
    "**7)no_of_loans :No. of the loans taken by the applicant**\n",
    "\n",
    "**8)no_of_curr_loans :No. of active loans held by the applicant**\n",
    "\n",
    "**9)last_delinq_none :The loan defaulted in at least one of the past loans**\n",
    "\n",
    "**10)loan_default (Target Variable) :0/1 indicating if an applicant will default the loan or not**\n"
   ]
  },
  {
   "cell_type": "markdown",
   "id": "c57775e3",
   "metadata": {},
   "source": [
    "## Importing Library"
   ]
  },
  {
   "cell_type": "code",
   "execution_count": 211,
   "id": "5aa3d68a",
   "metadata": {},
   "outputs": [],
   "source": [
    "#For mathematical calculation\n",
    "\n",
    "import numpy as np\n",
    "\n",
    "# For dataframe and series mainpulation \n",
    "\n",
    "import pandas as pd\n",
    "\n",
    "# It is used for plotting statistical graphics\n",
    "import seaborn as sns\n",
    "\n",
    "# Setting the background theme\n",
    "sns.set_theme(style=\"darkgrid\")\n",
    "\n",
    "# 'Matplotlib' is a data visualization library\n",
    "import matplotlib.pyplot as plt\n",
    "%matplotlib inline\n"
   ]
  },
  {
   "cell_type": "markdown",
   "id": "51c325d6",
   "metadata": {},
   "source": [
    "## Load Data"
   ]
  },
  {
   "cell_type": "code",
   "execution_count": 212,
   "id": "9e2c1a59",
   "metadata": {},
   "outputs": [
    {
     "data": {
      "text/html": [
       "<div>\n",
       "<style scoped>\n",
       "    .dataframe tbody tr th:only-of-type {\n",
       "        vertical-align: middle;\n",
       "    }\n",
       "\n",
       "    .dataframe tbody tr th {\n",
       "        vertical-align: top;\n",
       "    }\n",
       "\n",
       "    .dataframe thead th {\n",
       "        text-align: right;\n",
       "    }\n",
       "</style>\n",
       "<table border=\"1\" class=\"dataframe\">\n",
       "  <thead>\n",
       "    <tr style=\"text-align: right;\">\n",
       "      <th></th>\n",
       "      <th>loan_id</th>\n",
       "      <th>age</th>\n",
       "      <th>education</th>\n",
       "      <th>proof_submitted</th>\n",
       "      <th>loan_amount</th>\n",
       "      <th>asset_cost</th>\n",
       "      <th>no_of_loans</th>\n",
       "      <th>no_of_curr_loans</th>\n",
       "      <th>last_delinq_none</th>\n",
       "      <th>loan_default</th>\n",
       "    </tr>\n",
       "  </thead>\n",
       "  <tbody>\n",
       "    <tr>\n",
       "      <th>0</th>\n",
       "      <td>1</td>\n",
       "      <td>27</td>\n",
       "      <td>1.0</td>\n",
       "      <td>Aadhar</td>\n",
       "      <td>504264</td>\n",
       "      <td>820920</td>\n",
       "      <td>2</td>\n",
       "      <td>2</td>\n",
       "      <td>0</td>\n",
       "      <td>0</td>\n",
       "    </tr>\n",
       "    <tr>\n",
       "      <th>1</th>\n",
       "      <td>2</td>\n",
       "      <td>48</td>\n",
       "      <td>1.0</td>\n",
       "      <td>Aadhar</td>\n",
       "      <td>728556</td>\n",
       "      <td>831444</td>\n",
       "      <td>6</td>\n",
       "      <td>2</td>\n",
       "      <td>0</td>\n",
       "      <td>0</td>\n",
       "    </tr>\n",
       "    <tr>\n",
       "      <th>2</th>\n",
       "      <td>3</td>\n",
       "      <td>30</td>\n",
       "      <td>2.0</td>\n",
       "      <td>VoterID</td>\n",
       "      <td>642936</td>\n",
       "      <td>826092</td>\n",
       "      <td>0</td>\n",
       "      <td>0</td>\n",
       "      <td>0</td>\n",
       "      <td>1</td>\n",
       "    </tr>\n",
       "    <tr>\n",
       "      <th>3</th>\n",
       "      <td>4</td>\n",
       "      <td>28</td>\n",
       "      <td>1.0</td>\n",
       "      <td>Aadhar</td>\n",
       "      <td>746556</td>\n",
       "      <td>930924</td>\n",
       "      <td>0</td>\n",
       "      <td>0</td>\n",
       "      <td>0</td>\n",
       "      <td>0</td>\n",
       "    </tr>\n",
       "    <tr>\n",
       "      <th>4</th>\n",
       "      <td>5</td>\n",
       "      <td>29</td>\n",
       "      <td>1.0</td>\n",
       "      <td>Aadhar</td>\n",
       "      <td>1139880</td>\n",
       "      <td>1902000</td>\n",
       "      <td>0</td>\n",
       "      <td>0</td>\n",
       "      <td>0</td>\n",
       "      <td>0</td>\n",
       "    </tr>\n",
       "  </tbody>\n",
       "</table>\n",
       "</div>"
      ],
      "text/plain": [
       "   loan_id  age  education proof_submitted  loan_amount  asset_cost  \\\n",
       "0        1   27        1.0          Aadhar       504264      820920   \n",
       "1        2   48        1.0          Aadhar       728556      831444   \n",
       "2        3   30        2.0         VoterID       642936      826092   \n",
       "3        4   28        1.0          Aadhar       746556      930924   \n",
       "4        5   29        1.0          Aadhar      1139880     1902000   \n",
       "\n",
       "   no_of_loans  no_of_curr_loans  last_delinq_none  loan_default  \n",
       "0            2                 2                 0             0  \n",
       "1            6                 2                 0             0  \n",
       "2            0                 0                 0             1  \n",
       "3            0                 0                 0             0  \n",
       "4            0                 0                 0             0  "
      ]
     },
     "execution_count": 212,
     "metadata": {},
     "output_type": "execute_result"
    }
   ],
   "source": [
    "# Reading the data using pandas\n",
    "\n",
    "Train_data = pd.read_csv(\"Data set/train_LZV4RXX.csv\")\n",
    "\n",
    "# Displaying the first 5 records\n",
    "\n",
    "Train_data.head(5)"
   ]
  },
  {
   "cell_type": "code",
   "execution_count": 213,
   "id": "542ee42c",
   "metadata": {
    "scrolled": true
   },
   "outputs": [
    {
     "data": {
      "text/plain": [
       "(7000, 10)"
      ]
     },
     "execution_count": 213,
     "metadata": {},
     "output_type": "execute_result"
    }
   ],
   "source": [
    "# Checking the shape of the dataframe\n",
    "\n",
    "Train_data.shape"
   ]
  },
  {
   "cell_type": "markdown",
   "id": "862c3429",
   "metadata": {},
   "source": [
    "* Here the original dataset contains 7000 records and 10 features"
   ]
  },
  {
   "cell_type": "code",
   "execution_count": 214,
   "id": "ad41c5d2",
   "metadata": {},
   "outputs": [],
   "source": [
    "# Here we copying the original data for future reference\n",
    "\n",
    "Original_Train_data = Train_data.copy()"
   ]
  },
  {
   "cell_type": "markdown",
   "id": "e75374ff",
   "metadata": {},
   "source": [
    "## Basic Information of Data"
   ]
  },
  {
   "cell_type": "code",
   "execution_count": 215,
   "id": "99ce2a2a",
   "metadata": {
    "scrolled": true
   },
   "outputs": [
    {
     "name": "stdout",
     "output_type": "stream",
     "text": [
      "<class 'pandas.core.frame.DataFrame'>\n",
      "RangeIndex: 7000 entries, 0 to 6999\n",
      "Data columns (total 10 columns):\n",
      " #   Column            Non-Null Count  Dtype  \n",
      "---  ------            --------------  -----  \n",
      " 0   loan_id           7000 non-null   int64  \n",
      " 1   age               7000 non-null   int64  \n",
      " 2   education         6755 non-null   float64\n",
      " 3   proof_submitted   7000 non-null   object \n",
      " 4   loan_amount       7000 non-null   int64  \n",
      " 5   asset_cost        7000 non-null   int64  \n",
      " 6   no_of_loans       7000 non-null   int64  \n",
      " 7   no_of_curr_loans  7000 non-null   int64  \n",
      " 8   last_delinq_none  7000 non-null   int64  \n",
      " 9   loan_default      7000 non-null   int64  \n",
      "dtypes: float64(1), int64(8), object(1)\n",
      "memory usage: 547.0+ KB\n"
     ]
    }
   ],
   "source": [
    "#Here we can see the data type of the features\n",
    "\n",
    "Train_data.info()"
   ]
  },
  {
   "cell_type": "markdown",
   "id": "012b7d0b",
   "metadata": {},
   "source": [
    "## Statistical Summary of Data"
   ]
  },
  {
   "cell_type": "code",
   "execution_count": 216,
   "id": "94aa6079",
   "metadata": {},
   "outputs": [
    {
     "data": {
      "text/html": [
       "<div>\n",
       "<style scoped>\n",
       "    .dataframe tbody tr th:only-of-type {\n",
       "        vertical-align: middle;\n",
       "    }\n",
       "\n",
       "    .dataframe tbody tr th {\n",
       "        vertical-align: top;\n",
       "    }\n",
       "\n",
       "    .dataframe thead th {\n",
       "        text-align: right;\n",
       "    }\n",
       "</style>\n",
       "<table border=\"1\" class=\"dataframe\">\n",
       "  <thead>\n",
       "    <tr style=\"text-align: right;\">\n",
       "      <th></th>\n",
       "      <th>count</th>\n",
       "      <th>mean</th>\n",
       "      <th>std</th>\n",
       "      <th>min</th>\n",
       "      <th>25%</th>\n",
       "      <th>50%</th>\n",
       "      <th>75%</th>\n",
       "      <th>max</th>\n",
       "    </tr>\n",
       "  </thead>\n",
       "  <tbody>\n",
       "    <tr>\n",
       "      <th>loan_id</th>\n",
       "      <td>7000.0</td>\n",
       "      <td>3500.500000</td>\n",
       "      <td>2020.870275</td>\n",
       "      <td>1.0</td>\n",
       "      <td>1750.75</td>\n",
       "      <td>3500.5</td>\n",
       "      <td>5250.25</td>\n",
       "      <td>7000.0</td>\n",
       "    </tr>\n",
       "    <tr>\n",
       "      <th>age</th>\n",
       "      <td>7000.0</td>\n",
       "      <td>36.096571</td>\n",
       "      <td>7.587700</td>\n",
       "      <td>21.0</td>\n",
       "      <td>29.00</td>\n",
       "      <td>36.0</td>\n",
       "      <td>43.00</td>\n",
       "      <td>50.0</td>\n",
       "    </tr>\n",
       "    <tr>\n",
       "      <th>education</th>\n",
       "      <td>6755.0</td>\n",
       "      <td>1.561954</td>\n",
       "      <td>0.496184</td>\n",
       "      <td>1.0</td>\n",
       "      <td>1.00</td>\n",
       "      <td>2.0</td>\n",
       "      <td>2.00</td>\n",
       "      <td>2.0</td>\n",
       "    </tr>\n",
       "    <tr>\n",
       "      <th>loan_amount</th>\n",
       "      <td>7000.0</td>\n",
       "      <td>663355.172571</td>\n",
       "      <td>149812.773669</td>\n",
       "      <td>167880.0</td>\n",
       "      <td>577788.00</td>\n",
       "      <td>657108.0</td>\n",
       "      <td>737364.00</td>\n",
       "      <td>1781376.0</td>\n",
       "    </tr>\n",
       "    <tr>\n",
       "      <th>asset_cost</th>\n",
       "      <td>7000.0</td>\n",
       "      <td>916299.750857</td>\n",
       "      <td>214492.244573</td>\n",
       "      <td>473352.0</td>\n",
       "      <td>797901.00</td>\n",
       "      <td>858426.0</td>\n",
       "      <td>957675.00</td>\n",
       "      <td>2419200.0</td>\n",
       "    </tr>\n",
       "    <tr>\n",
       "      <th>no_of_loans</th>\n",
       "      <td>7000.0</td>\n",
       "      <td>2.853286</td>\n",
       "      <td>5.471932</td>\n",
       "      <td>0.0</td>\n",
       "      <td>0.00</td>\n",
       "      <td>0.0</td>\n",
       "      <td>3.00</td>\n",
       "      <td>109.0</td>\n",
       "    </tr>\n",
       "    <tr>\n",
       "      <th>no_of_curr_loans</th>\n",
       "      <td>7000.0</td>\n",
       "      <td>1.371143</td>\n",
       "      <td>2.189278</td>\n",
       "      <td>0.0</td>\n",
       "      <td>0.00</td>\n",
       "      <td>0.0</td>\n",
       "      <td>2.00</td>\n",
       "      <td>33.0</td>\n",
       "    </tr>\n",
       "    <tr>\n",
       "      <th>last_delinq_none</th>\n",
       "      <td>7000.0</td>\n",
       "      <td>0.013286</td>\n",
       "      <td>0.114504</td>\n",
       "      <td>0.0</td>\n",
       "      <td>0.00</td>\n",
       "      <td>0.0</td>\n",
       "      <td>0.00</td>\n",
       "      <td>1.0</td>\n",
       "    </tr>\n",
       "    <tr>\n",
       "      <th>loan_default</th>\n",
       "      <td>7000.0</td>\n",
       "      <td>0.400000</td>\n",
       "      <td>0.489933</td>\n",
       "      <td>0.0</td>\n",
       "      <td>0.00</td>\n",
       "      <td>0.0</td>\n",
       "      <td>1.00</td>\n",
       "      <td>1.0</td>\n",
       "    </tr>\n",
       "  </tbody>\n",
       "</table>\n",
       "</div>"
      ],
      "text/plain": [
       "                   count           mean            std       min        25%  \\\n",
       "loan_id           7000.0    3500.500000    2020.870275       1.0    1750.75   \n",
       "age               7000.0      36.096571       7.587700      21.0      29.00   \n",
       "education         6755.0       1.561954       0.496184       1.0       1.00   \n",
       "loan_amount       7000.0  663355.172571  149812.773669  167880.0  577788.00   \n",
       "asset_cost        7000.0  916299.750857  214492.244573  473352.0  797901.00   \n",
       "no_of_loans       7000.0       2.853286       5.471932       0.0       0.00   \n",
       "no_of_curr_loans  7000.0       1.371143       2.189278       0.0       0.00   \n",
       "last_delinq_none  7000.0       0.013286       0.114504       0.0       0.00   \n",
       "loan_default      7000.0       0.400000       0.489933       0.0       0.00   \n",
       "\n",
       "                       50%        75%        max  \n",
       "loan_id             3500.5    5250.25     7000.0  \n",
       "age                   36.0      43.00       50.0  \n",
       "education              2.0       2.00        2.0  \n",
       "loan_amount       657108.0  737364.00  1781376.0  \n",
       "asset_cost        858426.0  957675.00  2419200.0  \n",
       "no_of_loans            0.0       3.00      109.0  \n",
       "no_of_curr_loans       0.0       2.00       33.0  \n",
       "last_delinq_none       0.0       0.00        1.0  \n",
       "loan_default           0.0       1.00        1.0  "
      ]
     },
     "execution_count": 216,
     "metadata": {},
     "output_type": "execute_result"
    }
   ],
   "source": [
    "# By using Describe we can see the suumary of the numerical data\n",
    "\n",
    "Train_data.describe().transpose()"
   ]
  },
  {
   "cell_type": "code",
   "execution_count": 217,
   "id": "8f960553",
   "metadata": {},
   "outputs": [
    {
     "data": {
      "text/html": [
       "<div>\n",
       "<style scoped>\n",
       "    .dataframe tbody tr th:only-of-type {\n",
       "        vertical-align: middle;\n",
       "    }\n",
       "\n",
       "    .dataframe tbody tr th {\n",
       "        vertical-align: top;\n",
       "    }\n",
       "\n",
       "    .dataframe thead th {\n",
       "        text-align: right;\n",
       "    }\n",
       "</style>\n",
       "<table border=\"1\" class=\"dataframe\">\n",
       "  <thead>\n",
       "    <tr style=\"text-align: right;\">\n",
       "      <th></th>\n",
       "      <th>proof_submitted</th>\n",
       "    </tr>\n",
       "  </thead>\n",
       "  <tbody>\n",
       "    <tr>\n",
       "      <th>count</th>\n",
       "      <td>7000</td>\n",
       "    </tr>\n",
       "    <tr>\n",
       "      <th>unique</th>\n",
       "      <td>5</td>\n",
       "    </tr>\n",
       "    <tr>\n",
       "      <th>top</th>\n",
       "      <td>Aadhar</td>\n",
       "    </tr>\n",
       "    <tr>\n",
       "      <th>freq</th>\n",
       "      <td>5931</td>\n",
       "    </tr>\n",
       "  </tbody>\n",
       "</table>\n",
       "</div>"
      ],
      "text/plain": [
       "       proof_submitted\n",
       "count             7000\n",
       "unique               5\n",
       "top             Aadhar\n",
       "freq              5931"
      ]
     },
     "execution_count": 217,
     "metadata": {},
     "output_type": "execute_result"
    }
   ],
   "source": [
    "# Summary of categorigal data\n",
    "\n",
    "Train_data.describe(include = object)\n"
   ]
  },
  {
   "cell_type": "markdown",
   "id": "13e3f508",
   "metadata": {},
   "source": [
    "## Missing values"
   ]
  },
  {
   "cell_type": "code",
   "execution_count": 218,
   "id": "069ed8d3",
   "metadata": {},
   "outputs": [
    {
     "data": {
      "text/plain": [
       "loan_id               0\n",
       "age                   0\n",
       "education           245\n",
       "proof_submitted       0\n",
       "loan_amount           0\n",
       "asset_cost            0\n",
       "no_of_loans           0\n",
       "no_of_curr_loans      0\n",
       "last_delinq_none      0\n",
       "loan_default          0\n",
       "dtype: int64"
      ]
     },
     "execution_count": 218,
     "metadata": {},
     "output_type": "execute_result"
    }
   ],
   "source": [
    "#Checking the missing values \n",
    "\n",
    "Train_data.isnull().sum()"
   ]
  },
  {
   "cell_type": "markdown",
   "id": "61ad0b6d",
   "metadata": {},
   "source": [
    "* Here we can see **\" education \"** column contains the 245 null values"
   ]
  },
  {
   "cell_type": "markdown",
   "id": "1e023aa2",
   "metadata": {},
   "source": [
    "## Correlation"
   ]
  },
  {
   "cell_type": "code",
   "execution_count": 219,
   "id": "6fcf7ffc",
   "metadata": {},
   "outputs": [
    {
     "data": {
      "text/html": [
       "<div>\n",
       "<style scoped>\n",
       "    .dataframe tbody tr th:only-of-type {\n",
       "        vertical-align: middle;\n",
       "    }\n",
       "\n",
       "    .dataframe tbody tr th {\n",
       "        vertical-align: top;\n",
       "    }\n",
       "\n",
       "    .dataframe thead th {\n",
       "        text-align: right;\n",
       "    }\n",
       "</style>\n",
       "<table border=\"1\" class=\"dataframe\">\n",
       "  <thead>\n",
       "    <tr style=\"text-align: right;\">\n",
       "      <th></th>\n",
       "      <th>loan_id</th>\n",
       "      <th>age</th>\n",
       "      <th>education</th>\n",
       "      <th>loan_amount</th>\n",
       "      <th>asset_cost</th>\n",
       "      <th>no_of_loans</th>\n",
       "      <th>no_of_curr_loans</th>\n",
       "      <th>last_delinq_none</th>\n",
       "      <th>loan_default</th>\n",
       "    </tr>\n",
       "  </thead>\n",
       "  <tbody>\n",
       "    <tr>\n",
       "      <th>loan_id</th>\n",
       "      <td>1.000000</td>\n",
       "      <td>-0.017165</td>\n",
       "      <td>-0.034615</td>\n",
       "      <td>-0.020757</td>\n",
       "      <td>-0.032053</td>\n",
       "      <td>-0.023589</td>\n",
       "      <td>-0.015454</td>\n",
       "      <td>-0.002829</td>\n",
       "      <td>0.011921</td>\n",
       "    </tr>\n",
       "    <tr>\n",
       "      <th>age</th>\n",
       "      <td>-0.017165</td>\n",
       "      <td>1.000000</td>\n",
       "      <td>0.102063</td>\n",
       "      <td>-0.058011</td>\n",
       "      <td>-0.122741</td>\n",
       "      <td>0.193026</td>\n",
       "      <td>0.184503</td>\n",
       "      <td>0.050325</td>\n",
       "      <td>-0.029571</td>\n",
       "    </tr>\n",
       "    <tr>\n",
       "      <th>education</th>\n",
       "      <td>-0.034615</td>\n",
       "      <td>0.102063</td>\n",
       "      <td>1.000000</td>\n",
       "      <td>-0.004588</td>\n",
       "      <td>0.083221</td>\n",
       "      <td>0.025889</td>\n",
       "      <td>0.004606</td>\n",
       "      <td>0.026516</td>\n",
       "      <td>0.041701</td>\n",
       "    </tr>\n",
       "    <tr>\n",
       "      <th>loan_amount</th>\n",
       "      <td>-0.020757</td>\n",
       "      <td>-0.058011</td>\n",
       "      <td>-0.004588</td>\n",
       "      <td>1.000000</td>\n",
       "      <td>0.735176</td>\n",
       "      <td>0.010867</td>\n",
       "      <td>0.014788</td>\n",
       "      <td>-0.009412</td>\n",
       "      <td>0.115736</td>\n",
       "    </tr>\n",
       "    <tr>\n",
       "      <th>asset_cost</th>\n",
       "      <td>-0.032053</td>\n",
       "      <td>-0.122741</td>\n",
       "      <td>0.083221</td>\n",
       "      <td>0.735176</td>\n",
       "      <td>1.000000</td>\n",
       "      <td>-0.052643</td>\n",
       "      <td>-0.054021</td>\n",
       "      <td>-0.023489</td>\n",
       "      <td>0.048020</td>\n",
       "    </tr>\n",
       "    <tr>\n",
       "      <th>no_of_loans</th>\n",
       "      <td>-0.023589</td>\n",
       "      <td>0.193026</td>\n",
       "      <td>0.025889</td>\n",
       "      <td>0.010867</td>\n",
       "      <td>-0.052643</td>\n",
       "      <td>1.000000</td>\n",
       "      <td>0.774705</td>\n",
       "      <td>0.235024</td>\n",
       "      <td>-0.045738</td>\n",
       "    </tr>\n",
       "    <tr>\n",
       "      <th>no_of_curr_loans</th>\n",
       "      <td>-0.015454</td>\n",
       "      <td>0.184503</td>\n",
       "      <td>0.004606</td>\n",
       "      <td>0.014788</td>\n",
       "      <td>-0.054021</td>\n",
       "      <td>0.774705</td>\n",
       "      <td>1.000000</td>\n",
       "      <td>0.272716</td>\n",
       "      <td>-0.057306</td>\n",
       "    </tr>\n",
       "    <tr>\n",
       "      <th>last_delinq_none</th>\n",
       "      <td>-0.002829</td>\n",
       "      <td>0.050325</td>\n",
       "      <td>0.026516</td>\n",
       "      <td>-0.009412</td>\n",
       "      <td>-0.023489</td>\n",
       "      <td>0.235024</td>\n",
       "      <td>0.272716</td>\n",
       "      <td>1.000000</td>\n",
       "      <td>0.014772</td>\n",
       "    </tr>\n",
       "    <tr>\n",
       "      <th>loan_default</th>\n",
       "      <td>0.011921</td>\n",
       "      <td>-0.029571</td>\n",
       "      <td>0.041701</td>\n",
       "      <td>0.115736</td>\n",
       "      <td>0.048020</td>\n",
       "      <td>-0.045738</td>\n",
       "      <td>-0.057306</td>\n",
       "      <td>0.014772</td>\n",
       "      <td>1.000000</td>\n",
       "    </tr>\n",
       "  </tbody>\n",
       "</table>\n",
       "</div>"
      ],
      "text/plain": [
       "                   loan_id       age  education  loan_amount  asset_cost  \\\n",
       "loan_id           1.000000 -0.017165  -0.034615    -0.020757   -0.032053   \n",
       "age              -0.017165  1.000000   0.102063    -0.058011   -0.122741   \n",
       "education        -0.034615  0.102063   1.000000    -0.004588    0.083221   \n",
       "loan_amount      -0.020757 -0.058011  -0.004588     1.000000    0.735176   \n",
       "asset_cost       -0.032053 -0.122741   0.083221     0.735176    1.000000   \n",
       "no_of_loans      -0.023589  0.193026   0.025889     0.010867   -0.052643   \n",
       "no_of_curr_loans -0.015454  0.184503   0.004606     0.014788   -0.054021   \n",
       "last_delinq_none -0.002829  0.050325   0.026516    -0.009412   -0.023489   \n",
       "loan_default      0.011921 -0.029571   0.041701     0.115736    0.048020   \n",
       "\n",
       "                  no_of_loans  no_of_curr_loans  last_delinq_none  \\\n",
       "loan_id             -0.023589         -0.015454         -0.002829   \n",
       "age                  0.193026          0.184503          0.050325   \n",
       "education            0.025889          0.004606          0.026516   \n",
       "loan_amount          0.010867          0.014788         -0.009412   \n",
       "asset_cost          -0.052643         -0.054021         -0.023489   \n",
       "no_of_loans          1.000000          0.774705          0.235024   \n",
       "no_of_curr_loans     0.774705          1.000000          0.272716   \n",
       "last_delinq_none     0.235024          0.272716          1.000000   \n",
       "loan_default        -0.045738         -0.057306          0.014772   \n",
       "\n",
       "                  loan_default  \n",
       "loan_id               0.011921  \n",
       "age                  -0.029571  \n",
       "education             0.041701  \n",
       "loan_amount           0.115736  \n",
       "asset_cost            0.048020  \n",
       "no_of_loans          -0.045738  \n",
       "no_of_curr_loans     -0.057306  \n",
       "last_delinq_none      0.014772  \n",
       "loan_default          1.000000  "
      ]
     },
     "execution_count": 219,
     "metadata": {},
     "output_type": "execute_result"
    }
   ],
   "source": [
    "# Here we cheching the correlation of the columns\n",
    "\n",
    "Train_data.corr()"
   ]
  },
  {
   "cell_type": "markdown",
   "id": "9b6827d0",
   "metadata": {},
   "source": [
    "## DATA VISUALIZATION"
   ]
  },
  {
   "cell_type": "code",
   "execution_count": 220,
   "id": "c838cdf6",
   "metadata": {},
   "outputs": [
    {
     "data": {
      "text/html": [
       "<div>\n",
       "<style scoped>\n",
       "    .dataframe tbody tr th:only-of-type {\n",
       "        vertical-align: middle;\n",
       "    }\n",
       "\n",
       "    .dataframe tbody tr th {\n",
       "        vertical-align: top;\n",
       "    }\n",
       "\n",
       "    .dataframe thead th {\n",
       "        text-align: right;\n",
       "    }\n",
       "</style>\n",
       "<table border=\"1\" class=\"dataframe\">\n",
       "  <thead>\n",
       "    <tr style=\"text-align: right;\">\n",
       "      <th></th>\n",
       "      <th>loan_id</th>\n",
       "      <th>age</th>\n",
       "      <th>education</th>\n",
       "      <th>proof_submitted</th>\n",
       "      <th>loan_amount</th>\n",
       "      <th>asset_cost</th>\n",
       "      <th>no_of_loans</th>\n",
       "      <th>no_of_curr_loans</th>\n",
       "      <th>last_delinq_none</th>\n",
       "      <th>loan_default</th>\n",
       "    </tr>\n",
       "  </thead>\n",
       "  <tbody>\n",
       "    <tr>\n",
       "      <th>0</th>\n",
       "      <td>1</td>\n",
       "      <td>27</td>\n",
       "      <td>1.0</td>\n",
       "      <td>Aadhar</td>\n",
       "      <td>504264</td>\n",
       "      <td>820920</td>\n",
       "      <td>2</td>\n",
       "      <td>2</td>\n",
       "      <td>0</td>\n",
       "      <td>0</td>\n",
       "    </tr>\n",
       "    <tr>\n",
       "      <th>1</th>\n",
       "      <td>2</td>\n",
       "      <td>48</td>\n",
       "      <td>1.0</td>\n",
       "      <td>Aadhar</td>\n",
       "      <td>728556</td>\n",
       "      <td>831444</td>\n",
       "      <td>6</td>\n",
       "      <td>2</td>\n",
       "      <td>0</td>\n",
       "      <td>0</td>\n",
       "    </tr>\n",
       "    <tr>\n",
       "      <th>2</th>\n",
       "      <td>3</td>\n",
       "      <td>30</td>\n",
       "      <td>2.0</td>\n",
       "      <td>VoterID</td>\n",
       "      <td>642936</td>\n",
       "      <td>826092</td>\n",
       "      <td>0</td>\n",
       "      <td>0</td>\n",
       "      <td>0</td>\n",
       "      <td>1</td>\n",
       "    </tr>\n",
       "    <tr>\n",
       "      <th>3</th>\n",
       "      <td>4</td>\n",
       "      <td>28</td>\n",
       "      <td>1.0</td>\n",
       "      <td>Aadhar</td>\n",
       "      <td>746556</td>\n",
       "      <td>930924</td>\n",
       "      <td>0</td>\n",
       "      <td>0</td>\n",
       "      <td>0</td>\n",
       "      <td>0</td>\n",
       "    </tr>\n",
       "    <tr>\n",
       "      <th>4</th>\n",
       "      <td>5</td>\n",
       "      <td>29</td>\n",
       "      <td>1.0</td>\n",
       "      <td>Aadhar</td>\n",
       "      <td>1139880</td>\n",
       "      <td>1902000</td>\n",
       "      <td>0</td>\n",
       "      <td>0</td>\n",
       "      <td>0</td>\n",
       "      <td>0</td>\n",
       "    </tr>\n",
       "  </tbody>\n",
       "</table>\n",
       "</div>"
      ],
      "text/plain": [
       "   loan_id  age  education proof_submitted  loan_amount  asset_cost  \\\n",
       "0        1   27        1.0          Aadhar       504264      820920   \n",
       "1        2   48        1.0          Aadhar       728556      831444   \n",
       "2        3   30        2.0         VoterID       642936      826092   \n",
       "3        4   28        1.0          Aadhar       746556      930924   \n",
       "4        5   29        1.0          Aadhar      1139880     1902000   \n",
       "\n",
       "   no_of_loans  no_of_curr_loans  last_delinq_none  loan_default  \n",
       "0            2                 2                 0             0  \n",
       "1            6                 2                 0             0  \n",
       "2            0                 0                 0             1  \n",
       "3            0                 0                 0             0  \n",
       "4            0                 0                 0             0  "
      ]
     },
     "execution_count": 220,
     "metadata": {},
     "output_type": "execute_result"
    }
   ],
   "source": [
    "# Here we using  copy of the original data for visualization\n",
    "\n",
    "Original_Train_data.head()"
   ]
  },
  {
   "cell_type": "markdown",
   "id": "1b1377ff",
   "metadata": {},
   "source": [
    "## Plot the Correlation "
   ]
  },
  {
   "cell_type": "code",
   "execution_count": 221,
   "id": "94d9234e",
   "metadata": {},
   "outputs": [
    {
     "data": {
      "text/html": [
       "<style type=\"text/css\">\n",
       "#T_70b52_row0_col0, #T_70b52_row1_col1, #T_70b52_row2_col2, #T_70b52_row3_col3, #T_70b52_row4_col4, #T_70b52_row5_col5, #T_70b52_row6_col6, #T_70b52_row7_col7, #T_70b52_row8_col8 {\n",
       "  background-color: #b40426;\n",
       "  color: #f1f1f1;\n",
       "}\n",
       "#T_70b52_row0_col1 {\n",
       "  background-color: #5875e1;\n",
       "  color: #f1f1f1;\n",
       "}\n",
       "#T_70b52_row0_col2, #T_70b52_row1_col3, #T_70b52_row1_col4, #T_70b52_row2_col0, #T_70b52_row4_col0, #T_70b52_row4_col1, #T_70b52_row4_col5, #T_70b52_row4_col6, #T_70b52_row4_col7, #T_70b52_row6_col8, #T_70b52_row8_col6 {\n",
       "  background-color: #3b4cc0;\n",
       "  color: #f1f1f1;\n",
       "}\n",
       "#T_70b52_row0_col3, #T_70b52_row6_col2, #T_70b52_row8_col7 {\n",
       "  background-color: #455cce;\n",
       "  color: #f1f1f1;\n",
       "}\n",
       "#T_70b52_row0_col4 {\n",
       "  background-color: #536edd;\n",
       "  color: #f1f1f1;\n",
       "}\n",
       "#T_70b52_row0_col5, #T_70b52_row3_col2, #T_70b52_row7_col0 {\n",
       "  background-color: #4358cb;\n",
       "  color: #f1f1f1;\n",
       "}\n",
       "#T_70b52_row0_col6 {\n",
       "  background-color: #465ecf;\n",
       "  color: #f1f1f1;\n",
       "}\n",
       "#T_70b52_row0_col7 {\n",
       "  background-color: #4055c8;\n",
       "  color: #f1f1f1;\n",
       "}\n",
       "#T_70b52_row0_col8, #T_70b52_row5_col3 {\n",
       "  background-color: #4e68d8;\n",
       "  color: #f1f1f1;\n",
       "}\n",
       "#T_70b52_row1_col0, #T_70b52_row6_col0 {\n",
       "  background-color: #3f53c6;\n",
       "  color: #f1f1f1;\n",
       "}\n",
       "#T_70b52_row1_col2 {\n",
       "  background-color: #6384eb;\n",
       "  color: #f1f1f1;\n",
       "}\n",
       "#T_70b52_row1_col5 {\n",
       "  background-color: #86a9fc;\n",
       "  color: #f1f1f1;\n",
       "}\n",
       "#T_70b52_row1_col6 {\n",
       "  background-color: #85a8fc;\n",
       "  color: #f1f1f1;\n",
       "}\n",
       "#T_70b52_row1_col7, #T_70b52_row8_col2 {\n",
       "  background-color: #506bda;\n",
       "  color: #f1f1f1;\n",
       "}\n",
       "#T_70b52_row1_col8 {\n",
       "  background-color: #4257c9;\n",
       "  color: #f1f1f1;\n",
       "}\n",
       "#T_70b52_row2_col1 {\n",
       "  background-color: #7b9ff9;\n",
       "  color: #f1f1f1;\n",
       "}\n",
       "#T_70b52_row2_col3, #T_70b52_row2_col7 {\n",
       "  background-color: #4961d2;\n",
       "  color: #f1f1f1;\n",
       "}\n",
       "#T_70b52_row2_col4 {\n",
       "  background-color: #7597f6;\n",
       "  color: #f1f1f1;\n",
       "}\n",
       "#T_70b52_row2_col5 {\n",
       "  background-color: #516ddb;\n",
       "  color: #f1f1f1;\n",
       "}\n",
       "#T_70b52_row2_col6, #T_70b52_row3_col1, #T_70b52_row5_col2 {\n",
       "  background-color: #4b64d5;\n",
       "  color: #f1f1f1;\n",
       "}\n",
       "#T_70b52_row2_col8 {\n",
       "  background-color: #5673e0;\n",
       "  color: #f1f1f1;\n",
       "}\n",
       "#T_70b52_row3_col0, #T_70b52_row3_col7 {\n",
       "  background-color: #3e51c5;\n",
       "  color: #f1f1f1;\n",
       "}\n",
       "#T_70b52_row3_col4 {\n",
       "  background-color: #f39475;\n",
       "  color: #000000;\n",
       "}\n",
       "#T_70b52_row3_col5, #T_70b52_row5_col4, #T_70b52_row6_col4, #T_70b52_row7_col2 {\n",
       "  background-color: #4c66d6;\n",
       "  color: #f1f1f1;\n",
       "}\n",
       "#T_70b52_row3_col6, #T_70b52_row6_col3, #T_70b52_row7_col8 {\n",
       "  background-color: #4f69d9;\n",
       "  color: #f1f1f1;\n",
       "}\n",
       "#T_70b52_row3_col8 {\n",
       "  background-color: #6e90f2;\n",
       "  color: #f1f1f1;\n",
       "}\n",
       "#T_70b52_row4_col2 {\n",
       "  background-color: #5e7de7;\n",
       "  color: #f1f1f1;\n",
       "}\n",
       "#T_70b52_row4_col3 {\n",
       "  background-color: #f49a7b;\n",
       "  color: #000000;\n",
       "}\n",
       "#T_70b52_row4_col8 {\n",
       "  background-color: #5977e3;\n",
       "  color: #f1f1f1;\n",
       "}\n",
       "#T_70b52_row5_col0, #T_70b52_row5_col8 {\n",
       "  background-color: #3d50c3;\n",
       "  color: #f1f1f1;\n",
       "}\n",
       "#T_70b52_row5_col1 {\n",
       "  background-color: #97b8ff;\n",
       "  color: #000000;\n",
       "}\n",
       "#T_70b52_row5_col6, #T_70b52_row6_col5 {\n",
       "  background-color: #f08a6c;\n",
       "  color: #f1f1f1;\n",
       "}\n",
       "#T_70b52_row5_col7 {\n",
       "  background-color: #8db0fe;\n",
       "  color: #000000;\n",
       "}\n",
       "#T_70b52_row6_col1 {\n",
       "  background-color: #96b7ff;\n",
       "  color: #000000;\n",
       "}\n",
       "#T_70b52_row6_col7 {\n",
       "  background-color: #9bbcff;\n",
       "  color: #000000;\n",
       "}\n",
       "#T_70b52_row7_col1 {\n",
       "  background-color: #6b8df0;\n",
       "  color: #f1f1f1;\n",
       "}\n",
       "#T_70b52_row7_col3, #T_70b52_row8_col0 {\n",
       "  background-color: #485fd1;\n",
       "  color: #f1f1f1;\n",
       "}\n",
       "#T_70b52_row7_col4 {\n",
       "  background-color: #5572df;\n",
       "  color: #f1f1f1;\n",
       "}\n",
       "#T_70b52_row7_col5 {\n",
       "  background-color: #94b6ff;\n",
       "  color: #000000;\n",
       "}\n",
       "#T_70b52_row7_col6 {\n",
       "  background-color: #a2c1ff;\n",
       "  color: #000000;\n",
       "}\n",
       "#T_70b52_row8_col1 {\n",
       "  background-color: #5470de;\n",
       "  color: #f1f1f1;\n",
       "}\n",
       "#T_70b52_row8_col3 {\n",
       "  background-color: #6f92f3;\n",
       "  color: #f1f1f1;\n",
       "}\n",
       "#T_70b52_row8_col4 {\n",
       "  background-color: #6a8bef;\n",
       "  color: #f1f1f1;\n",
       "}\n",
       "#T_70b52_row8_col5 {\n",
       "  background-color: #3c4ec2;\n",
       "  color: #f1f1f1;\n",
       "}\n",
       "</style>\n",
       "<table id=\"T_70b52_\">\n",
       "  <thead>\n",
       "    <tr>\n",
       "      <th class=\"blank level0\" >&nbsp;</th>\n",
       "      <th class=\"col_heading level0 col0\" >loan_id</th>\n",
       "      <th class=\"col_heading level0 col1\" >age</th>\n",
       "      <th class=\"col_heading level0 col2\" >education</th>\n",
       "      <th class=\"col_heading level0 col3\" >loan_amount</th>\n",
       "      <th class=\"col_heading level0 col4\" >asset_cost</th>\n",
       "      <th class=\"col_heading level0 col5\" >no_of_loans</th>\n",
       "      <th class=\"col_heading level0 col6\" >no_of_curr_loans</th>\n",
       "      <th class=\"col_heading level0 col7\" >last_delinq_none</th>\n",
       "      <th class=\"col_heading level0 col8\" >loan_default</th>\n",
       "    </tr>\n",
       "  </thead>\n",
       "  <tbody>\n",
       "    <tr>\n",
       "      <th id=\"T_70b52_level0_row0\" class=\"row_heading level0 row0\" >loan_id</th>\n",
       "      <td id=\"T_70b52_row0_col0\" class=\"data row0 col0\" >1.000000</td>\n",
       "      <td id=\"T_70b52_row0_col1\" class=\"data row0 col1\" >-0.017165</td>\n",
       "      <td id=\"T_70b52_row0_col2\" class=\"data row0 col2\" >-0.034615</td>\n",
       "      <td id=\"T_70b52_row0_col3\" class=\"data row0 col3\" >-0.020757</td>\n",
       "      <td id=\"T_70b52_row0_col4\" class=\"data row0 col4\" >-0.032053</td>\n",
       "      <td id=\"T_70b52_row0_col5\" class=\"data row0 col5\" >-0.023589</td>\n",
       "      <td id=\"T_70b52_row0_col6\" class=\"data row0 col6\" >-0.015454</td>\n",
       "      <td id=\"T_70b52_row0_col7\" class=\"data row0 col7\" >-0.002829</td>\n",
       "      <td id=\"T_70b52_row0_col8\" class=\"data row0 col8\" >0.011921</td>\n",
       "    </tr>\n",
       "    <tr>\n",
       "      <th id=\"T_70b52_level0_row1\" class=\"row_heading level0 row1\" >age</th>\n",
       "      <td id=\"T_70b52_row1_col0\" class=\"data row1 col0\" >-0.017165</td>\n",
       "      <td id=\"T_70b52_row1_col1\" class=\"data row1 col1\" >1.000000</td>\n",
       "      <td id=\"T_70b52_row1_col2\" class=\"data row1 col2\" >0.102063</td>\n",
       "      <td id=\"T_70b52_row1_col3\" class=\"data row1 col3\" >-0.058011</td>\n",
       "      <td id=\"T_70b52_row1_col4\" class=\"data row1 col4\" >-0.122741</td>\n",
       "      <td id=\"T_70b52_row1_col5\" class=\"data row1 col5\" >0.193026</td>\n",
       "      <td id=\"T_70b52_row1_col6\" class=\"data row1 col6\" >0.184503</td>\n",
       "      <td id=\"T_70b52_row1_col7\" class=\"data row1 col7\" >0.050325</td>\n",
       "      <td id=\"T_70b52_row1_col8\" class=\"data row1 col8\" >-0.029571</td>\n",
       "    </tr>\n",
       "    <tr>\n",
       "      <th id=\"T_70b52_level0_row2\" class=\"row_heading level0 row2\" >education</th>\n",
       "      <td id=\"T_70b52_row2_col0\" class=\"data row2 col0\" >-0.034615</td>\n",
       "      <td id=\"T_70b52_row2_col1\" class=\"data row2 col1\" >0.102063</td>\n",
       "      <td id=\"T_70b52_row2_col2\" class=\"data row2 col2\" >1.000000</td>\n",
       "      <td id=\"T_70b52_row2_col3\" class=\"data row2 col3\" >-0.004588</td>\n",
       "      <td id=\"T_70b52_row2_col4\" class=\"data row2 col4\" >0.083221</td>\n",
       "      <td id=\"T_70b52_row2_col5\" class=\"data row2 col5\" >0.025889</td>\n",
       "      <td id=\"T_70b52_row2_col6\" class=\"data row2 col6\" >0.004606</td>\n",
       "      <td id=\"T_70b52_row2_col7\" class=\"data row2 col7\" >0.026516</td>\n",
       "      <td id=\"T_70b52_row2_col8\" class=\"data row2 col8\" >0.041701</td>\n",
       "    </tr>\n",
       "    <tr>\n",
       "      <th id=\"T_70b52_level0_row3\" class=\"row_heading level0 row3\" >loan_amount</th>\n",
       "      <td id=\"T_70b52_row3_col0\" class=\"data row3 col0\" >-0.020757</td>\n",
       "      <td id=\"T_70b52_row3_col1\" class=\"data row3 col1\" >-0.058011</td>\n",
       "      <td id=\"T_70b52_row3_col2\" class=\"data row3 col2\" >-0.004588</td>\n",
       "      <td id=\"T_70b52_row3_col3\" class=\"data row3 col3\" >1.000000</td>\n",
       "      <td id=\"T_70b52_row3_col4\" class=\"data row3 col4\" >0.735176</td>\n",
       "      <td id=\"T_70b52_row3_col5\" class=\"data row3 col5\" >0.010867</td>\n",
       "      <td id=\"T_70b52_row3_col6\" class=\"data row3 col6\" >0.014788</td>\n",
       "      <td id=\"T_70b52_row3_col7\" class=\"data row3 col7\" >-0.009412</td>\n",
       "      <td id=\"T_70b52_row3_col8\" class=\"data row3 col8\" >0.115736</td>\n",
       "    </tr>\n",
       "    <tr>\n",
       "      <th id=\"T_70b52_level0_row4\" class=\"row_heading level0 row4\" >asset_cost</th>\n",
       "      <td id=\"T_70b52_row4_col0\" class=\"data row4 col0\" >-0.032053</td>\n",
       "      <td id=\"T_70b52_row4_col1\" class=\"data row4 col1\" >-0.122741</td>\n",
       "      <td id=\"T_70b52_row4_col2\" class=\"data row4 col2\" >0.083221</td>\n",
       "      <td id=\"T_70b52_row4_col3\" class=\"data row4 col3\" >0.735176</td>\n",
       "      <td id=\"T_70b52_row4_col4\" class=\"data row4 col4\" >1.000000</td>\n",
       "      <td id=\"T_70b52_row4_col5\" class=\"data row4 col5\" >-0.052643</td>\n",
       "      <td id=\"T_70b52_row4_col6\" class=\"data row4 col6\" >-0.054021</td>\n",
       "      <td id=\"T_70b52_row4_col7\" class=\"data row4 col7\" >-0.023489</td>\n",
       "      <td id=\"T_70b52_row4_col8\" class=\"data row4 col8\" >0.048020</td>\n",
       "    </tr>\n",
       "    <tr>\n",
       "      <th id=\"T_70b52_level0_row5\" class=\"row_heading level0 row5\" >no_of_loans</th>\n",
       "      <td id=\"T_70b52_row5_col0\" class=\"data row5 col0\" >-0.023589</td>\n",
       "      <td id=\"T_70b52_row5_col1\" class=\"data row5 col1\" >0.193026</td>\n",
       "      <td id=\"T_70b52_row5_col2\" class=\"data row5 col2\" >0.025889</td>\n",
       "      <td id=\"T_70b52_row5_col3\" class=\"data row5 col3\" >0.010867</td>\n",
       "      <td id=\"T_70b52_row5_col4\" class=\"data row5 col4\" >-0.052643</td>\n",
       "      <td id=\"T_70b52_row5_col5\" class=\"data row5 col5\" >1.000000</td>\n",
       "      <td id=\"T_70b52_row5_col6\" class=\"data row5 col6\" >0.774705</td>\n",
       "      <td id=\"T_70b52_row5_col7\" class=\"data row5 col7\" >0.235024</td>\n",
       "      <td id=\"T_70b52_row5_col8\" class=\"data row5 col8\" >-0.045738</td>\n",
       "    </tr>\n",
       "    <tr>\n",
       "      <th id=\"T_70b52_level0_row6\" class=\"row_heading level0 row6\" >no_of_curr_loans</th>\n",
       "      <td id=\"T_70b52_row6_col0\" class=\"data row6 col0\" >-0.015454</td>\n",
       "      <td id=\"T_70b52_row6_col1\" class=\"data row6 col1\" >0.184503</td>\n",
       "      <td id=\"T_70b52_row6_col2\" class=\"data row6 col2\" >0.004606</td>\n",
       "      <td id=\"T_70b52_row6_col3\" class=\"data row6 col3\" >0.014788</td>\n",
       "      <td id=\"T_70b52_row6_col4\" class=\"data row6 col4\" >-0.054021</td>\n",
       "      <td id=\"T_70b52_row6_col5\" class=\"data row6 col5\" >0.774705</td>\n",
       "      <td id=\"T_70b52_row6_col6\" class=\"data row6 col6\" >1.000000</td>\n",
       "      <td id=\"T_70b52_row6_col7\" class=\"data row6 col7\" >0.272716</td>\n",
       "      <td id=\"T_70b52_row6_col8\" class=\"data row6 col8\" >-0.057306</td>\n",
       "    </tr>\n",
       "    <tr>\n",
       "      <th id=\"T_70b52_level0_row7\" class=\"row_heading level0 row7\" >last_delinq_none</th>\n",
       "      <td id=\"T_70b52_row7_col0\" class=\"data row7 col0\" >-0.002829</td>\n",
       "      <td id=\"T_70b52_row7_col1\" class=\"data row7 col1\" >0.050325</td>\n",
       "      <td id=\"T_70b52_row7_col2\" class=\"data row7 col2\" >0.026516</td>\n",
       "      <td id=\"T_70b52_row7_col3\" class=\"data row7 col3\" >-0.009412</td>\n",
       "      <td id=\"T_70b52_row7_col4\" class=\"data row7 col4\" >-0.023489</td>\n",
       "      <td id=\"T_70b52_row7_col5\" class=\"data row7 col5\" >0.235024</td>\n",
       "      <td id=\"T_70b52_row7_col6\" class=\"data row7 col6\" >0.272716</td>\n",
       "      <td id=\"T_70b52_row7_col7\" class=\"data row7 col7\" >1.000000</td>\n",
       "      <td id=\"T_70b52_row7_col8\" class=\"data row7 col8\" >0.014772</td>\n",
       "    </tr>\n",
       "    <tr>\n",
       "      <th id=\"T_70b52_level0_row8\" class=\"row_heading level0 row8\" >loan_default</th>\n",
       "      <td id=\"T_70b52_row8_col0\" class=\"data row8 col0\" >0.011921</td>\n",
       "      <td id=\"T_70b52_row8_col1\" class=\"data row8 col1\" >-0.029571</td>\n",
       "      <td id=\"T_70b52_row8_col2\" class=\"data row8 col2\" >0.041701</td>\n",
       "      <td id=\"T_70b52_row8_col3\" class=\"data row8 col3\" >0.115736</td>\n",
       "      <td id=\"T_70b52_row8_col4\" class=\"data row8 col4\" >0.048020</td>\n",
       "      <td id=\"T_70b52_row8_col5\" class=\"data row8 col5\" >-0.045738</td>\n",
       "      <td id=\"T_70b52_row8_col6\" class=\"data row8 col6\" >-0.057306</td>\n",
       "      <td id=\"T_70b52_row8_col7\" class=\"data row8 col7\" >0.014772</td>\n",
       "      <td id=\"T_70b52_row8_col8\" class=\"data row8 col8\" >1.000000</td>\n",
       "    </tr>\n",
       "  </tbody>\n",
       "</table>\n"
      ],
      "text/plain": [
       "<pandas.io.formats.style.Styler at 0x2911e8168c0>"
      ]
     },
     "execution_count": 221,
     "metadata": {},
     "output_type": "execute_result"
    }
   ],
   "source": [
    "# Plotting the correlation \n",
    "\n",
    "corr = Original_Train_data.corr()\n",
    "corr.style.background_gradient(cmap='coolwarm')"
   ]
  },
  {
   "cell_type": "markdown",
   "id": "462bdd7c",
   "metadata": {},
   "source": [
    "* Here we can see **loan_amountt** and **asset_cost** are highly correalted\n",
    "\n",
    "* Similar to we can see **no_of_loans** and **no_of_curr_loans** are  also highly correalted"
   ]
  },
  {
   "cell_type": "markdown",
   "id": "aba8e349",
   "metadata": {},
   "source": [
    "## Plot the  Missing Values "
   ]
  },
  {
   "cell_type": "code",
   "execution_count": 222,
   "id": "1e908ab6",
   "metadata": {},
   "outputs": [
    {
     "data": {
      "text/plain": [
       "<Figure size 720x432 with 0 Axes>"
      ]
     },
     "metadata": {},
     "output_type": "display_data"
    },
    {
     "data": {
      "image/png": "[encoded data removed]",
      "text/plain": [
       "<Figure size 606.35x360 with 1 Axes>"
      ]
     },
     "metadata": {
      "needs_background": "light"
     },
     "output_type": "display_data"
    }
   ],
   "source": [
    "#Plotting the Missing values\n",
    "\n",
    "plt.figure(figsize=(10,6))\n",
    "sns.displot(\n",
    "    data=Original_Train_data.isna().melt(value_name=\"missing\"),bins=1000, y=\"variable\",hue=\"missing\",multiple=\"fill\",aspect=1.5\n",
    "           )\n",
    "plt.show()"
   ]
  },
  {
   "cell_type": "markdown",
   "id": "c0e40f4e",
   "metadata": {},
   "source": [
    "* Here we can see the **education** columns contains 245 null values"
   ]
  },
  {
   "cell_type": "markdown",
   "id": "2dc48df3",
   "metadata": {},
   "source": [
    "## Checking the Outliers and Plotting"
   ]
  },
  {
   "cell_type": "code",
   "execution_count": 223,
   "id": "ab360b63",
   "metadata": {},
   "outputs": [
    {
     "data": {
      "image/png": "[encoded data removed]",
      "text/plain": [
       "<Figure size 432x288 with 1 Axes>"
      ]
     },
     "metadata": {
      "needs_background": "light"
     },
     "output_type": "display_data"
    }
   ],
   "source": [
    "# Here we can plotting Boxplot for Loan_Ammount\n",
    "\n",
    "sns.boxplot(x=Original_Train_data['loan_amount'],color='Cyan')\n",
    "\n",
    "plt.show()"
   ]
  },
  {
   "cell_type": "code",
   "execution_count": 224,
   "id": "673b9e71",
   "metadata": {},
   "outputs": [
    {
     "data": {
      "image/png": "[encoded data removed]",
      "text/plain": [
       "<Figure size 432x288 with 1 Axes>"
      ]
     },
     "metadata": {
      "needs_background": "light"
     },
     "output_type": "display_data"
    }
   ],
   "source": [
    "# Here we can plotting Boxplot for asset_cost\n",
    "\n",
    "sns.boxplot(data =Original_Train_data, x = 'asset_cost', color='Magenta')\n",
    "\n",
    "plt.show()"
   ]
  },
  {
   "cell_type": "code",
   "execution_count": 225,
   "id": "baeae467",
   "metadata": {},
   "outputs": [
    {
     "data": {
      "image/png": "[encoded data removed]",
      "text/plain": [
       "<Figure size 432x288 with 1 Axes>"
      ]
     },
     "metadata": {
      "needs_background": "light"
     },
     "output_type": "display_data"
    }
   ],
   "source": [
    "# Here we can plotting Boxplot for age\n",
    "\n",
    "sns.boxplot(x=Original_Train_data['age'],color='DeepSkyBlue')\n",
    "\n",
    "plt.show()"
   ]
  },
  {
   "cell_type": "markdown",
   "id": "379ccc55",
   "metadata": {},
   "source": [
    "## Checking the Data Balanced  or Not"
   ]
  },
  {
   "cell_type": "code",
   "execution_count": 226,
   "id": "4eade97e",
   "metadata": {
    "scrolled": true
   },
   "outputs": [
    {
     "data": {
      "image/png": "[encoded data removed]",
      "text/plain": [
       "<Figure size 432x288 with 1 Axes>"
      ]
     },
     "metadata": {
      "needs_background": "light"
     },
     "output_type": "display_data"
    }
   ],
   "source": [
    "# Plot the count of loan_default\n",
    "\n",
    "sns.countplot(x=\"loan_default\", data=Original_Train_data)\n",
    "\n",
    "plt.show()"
   ]
  },
  {
   "cell_type": "markdown",
   "id": "7854f573",
   "metadata": {},
   "source": [
    "* Here we can see most of the customers not able to reapy the loan \n",
    "\n",
    "* Here 4200 customer loan is defaulted and 2800 customers likely to repay the loan"
   ]
  },
  {
   "cell_type": "code",
   "execution_count": 227,
   "id": "968e8b1f",
   "metadata": {
    "scrolled": true
   },
   "outputs": [
    {
     "name": "stderr",
     "output_type": "stream",
     "text": [
      "C:\\Users\\Bharatesh\\AppData\\Local\\Programs\\Python\\Python310\\lib\\site-packages\\seaborn\\distributions.py:2619: FutureWarning: `distplot` is a deprecated function and will be removed in a future version. Please adapt your code to use either `displot` (a figure-level function with similar flexibility) or `histplot` (an axes-level function for histograms).\n",
      "  warnings.warn(msg, FutureWarning)\n"
     ]
    },
    {
     "data": {
      "image/png": "[encoded data removed]",
      "text/plain": [
       "<Figure size 432x288 with 1 Axes>"
      ]
     },
     "metadata": {
      "needs_background": "light"
     },
     "output_type": "display_data"
    }
   ],
   "source": [
    "# plotting the distibution for loan_amount column\n",
    "\n",
    "sns.distplot(Original_Train_data['loan_amount'],color='blue')\n",
    "\n",
    "plt.show()"
   ]
  },
  {
   "cell_type": "markdown",
   "id": "9f9099e6",
   "metadata": {},
   "source": [
    "* Here we can see the **loan_amount** is mostly normally distributed"
   ]
  },
  {
   "cell_type": "code",
   "execution_count": 228,
   "id": "f877baab",
   "metadata": {},
   "outputs": [
    {
     "name": "stderr",
     "output_type": "stream",
     "text": [
      "C:\\Users\\Bharatesh\\AppData\\Local\\Programs\\Python\\Python310\\lib\\site-packages\\seaborn\\distributions.py:2619: FutureWarning: `distplot` is a deprecated function and will be removed in a future version. Please adapt your code to use either `displot` (a figure-level function with similar flexibility) or `histplot` (an axes-level function for histograms).\n",
      "  warnings.warn(msg, FutureWarning)\n"
     ]
    },
    {
     "data": {
      "image/png": "[encoded data removed]",
      "text/plain": [
       "<Figure size 432x288 with 1 Axes>"
      ]
     },
     "metadata": {
      "needs_background": "light"
     },
     "output_type": "display_data"
    }
   ],
   "source": [
    "# plotting the distibution for asset_cost column\n",
    "\n",
    "sns.distplot(Original_Train_data['asset_cost'],color='orange')\n",
    "\n",
    "plt.show()"
   ]
  },
  {
   "cell_type": "markdown",
   "id": "08367e57",
   "metadata": {},
   "source": [
    "* Here we can see the **asset_cost** is mostly Right Skewed"
   ]
  },
  {
   "cell_type": "code",
   "execution_count": 229,
   "id": "7a79bb35",
   "metadata": {},
   "outputs": [
    {
     "data": {
      "text/plain": [
       "<AxesSubplot:xlabel='loan_amount', ylabel='asset_cost'>"
      ]
     },
     "execution_count": 229,
     "metadata": {},
     "output_type": "execute_result"
    },
    {
     "data": {
      "image/png": "[encoded data removed]",
      "text/plain": [
       "<Figure size 432x288 with 1 Axes>"
      ]
     },
     "metadata": {
      "needs_background": "light"
     },
     "output_type": "display_data"
    }
   ],
   "source": [
    "sns.scatterplot(data=Original_Train_data, x=\"loan_amount\", y=\"asset_cost\",hue='loan_default')"
   ]
  },
  {
   "cell_type": "code",
   "execution_count": 230,
   "id": "a9f91453",
   "metadata": {},
   "outputs": [
    {
     "data": {
      "text/plain": [
       "<seaborn.axisgrid.FacetGrid at 0x29117c04b80>"
      ]
     },
     "execution_count": 230,
     "metadata": {},
     "output_type": "execute_result"
    },
    {
     "data": {
      "image/png": "[encoded data removed]",
      "text/plain": [
       "<Figure size 434.05x360 with 1 Axes>"
      ]
     },
     "metadata": {
      "needs_background": "light"
     },
     "output_type": "display_data"
    }
   ],
   "source": [
    "\n",
    "sns.catplot(x=\"proof_submitted\",y = 'asset_cost',hue=\"loan_default\", kind=\"bar\", data=Original_Train_data)"
   ]
  },
  {
   "cell_type": "code",
   "execution_count": null,
   "id": "aad8caa8",
   "metadata": {},
   "outputs": [],
   "source": []
  },
  {
   "cell_type": "markdown",
   "id": "979aa5c3",
   "metadata": {},
   "source": [
    "## DATA PREPROCESSING"
   ]
  },
  {
   "cell_type": "code",
   "execution_count": 231,
   "id": "ccc9a53b",
   "metadata": {},
   "outputs": [
    {
     "data": {
      "text/html": [
       "<div>\n",
       "<style scoped>\n",
       "    .dataframe tbody tr th:only-of-type {\n",
       "        vertical-align: middle;\n",
       "    }\n",
       "\n",
       "    .dataframe tbody tr th {\n",
       "        vertical-align: top;\n",
       "    }\n",
       "\n",
       "    .dataframe thead th {\n",
       "        text-align: right;\n",
       "    }\n",
       "</style>\n",
       "<table border=\"1\" class=\"dataframe\">\n",
       "  <thead>\n",
       "    <tr style=\"text-align: right;\">\n",
       "      <th></th>\n",
       "      <th>loan_id</th>\n",
       "      <th>age</th>\n",
       "      <th>education</th>\n",
       "      <th>proof_submitted</th>\n",
       "      <th>loan_amount</th>\n",
       "      <th>asset_cost</th>\n",
       "      <th>no_of_loans</th>\n",
       "      <th>no_of_curr_loans</th>\n",
       "      <th>last_delinq_none</th>\n",
       "      <th>loan_default</th>\n",
       "    </tr>\n",
       "  </thead>\n",
       "  <tbody>\n",
       "    <tr>\n",
       "      <th>0</th>\n",
       "      <td>1</td>\n",
       "      <td>27</td>\n",
       "      <td>1.0</td>\n",
       "      <td>Aadhar</td>\n",
       "      <td>504264</td>\n",
       "      <td>820920</td>\n",
       "      <td>2</td>\n",
       "      <td>2</td>\n",
       "      <td>0</td>\n",
       "      <td>0</td>\n",
       "    </tr>\n",
       "    <tr>\n",
       "      <th>1</th>\n",
       "      <td>2</td>\n",
       "      <td>48</td>\n",
       "      <td>1.0</td>\n",
       "      <td>Aadhar</td>\n",
       "      <td>728556</td>\n",
       "      <td>831444</td>\n",
       "      <td>6</td>\n",
       "      <td>2</td>\n",
       "      <td>0</td>\n",
       "      <td>0</td>\n",
       "    </tr>\n",
       "    <tr>\n",
       "      <th>2</th>\n",
       "      <td>3</td>\n",
       "      <td>30</td>\n",
       "      <td>2.0</td>\n",
       "      <td>VoterID</td>\n",
       "      <td>642936</td>\n",
       "      <td>826092</td>\n",
       "      <td>0</td>\n",
       "      <td>0</td>\n",
       "      <td>0</td>\n",
       "      <td>1</td>\n",
       "    </tr>\n",
       "    <tr>\n",
       "      <th>3</th>\n",
       "      <td>4</td>\n",
       "      <td>28</td>\n",
       "      <td>1.0</td>\n",
       "      <td>Aadhar</td>\n",
       "      <td>746556</td>\n",
       "      <td>930924</td>\n",
       "      <td>0</td>\n",
       "      <td>0</td>\n",
       "      <td>0</td>\n",
       "      <td>0</td>\n",
       "    </tr>\n",
       "    <tr>\n",
       "      <th>4</th>\n",
       "      <td>5</td>\n",
       "      <td>29</td>\n",
       "      <td>1.0</td>\n",
       "      <td>Aadhar</td>\n",
       "      <td>1139880</td>\n",
       "      <td>1902000</td>\n",
       "      <td>0</td>\n",
       "      <td>0</td>\n",
       "      <td>0</td>\n",
       "      <td>0</td>\n",
       "    </tr>\n",
       "  </tbody>\n",
       "</table>\n",
       "</div>"
      ],
      "text/plain": [
       "   loan_id  age  education proof_submitted  loan_amount  asset_cost  \\\n",
       "0        1   27        1.0          Aadhar       504264      820920   \n",
       "1        2   48        1.0          Aadhar       728556      831444   \n",
       "2        3   30        2.0         VoterID       642936      826092   \n",
       "3        4   28        1.0          Aadhar       746556      930924   \n",
       "4        5   29        1.0          Aadhar      1139880     1902000   \n",
       "\n",
       "   no_of_loans  no_of_curr_loans  last_delinq_none  loan_default  \n",
       "0            2                 2                 0             0  \n",
       "1            6                 2                 0             0  \n",
       "2            0                 0                 0             1  \n",
       "3            0                 0                 0             0  \n",
       "4            0                 0                 0             0  "
      ]
     },
     "execution_count": 231,
     "metadata": {},
     "output_type": "execute_result"
    }
   ],
   "source": [
    "# Our original dataframe\n",
    "\n",
    "Train_data1 = Train_data.copy()\n",
    "\n",
    "Train_data1.head()"
   ]
  },
  {
   "cell_type": "code",
   "execution_count": 232,
   "id": "c04c06e3",
   "metadata": {},
   "outputs": [
    {
     "data": {
      "text/html": [
       "<div>\n",
       "<style scoped>\n",
       "    .dataframe tbody tr th:only-of-type {\n",
       "        vertical-align: middle;\n",
       "    }\n",
       "\n",
       "    .dataframe tbody tr th {\n",
       "        vertical-align: top;\n",
       "    }\n",
       "\n",
       "    .dataframe thead th {\n",
       "        text-align: right;\n",
       "    }\n",
       "</style>\n",
       "<table border=\"1\" class=\"dataframe\">\n",
       "  <thead>\n",
       "    <tr style=\"text-align: right;\">\n",
       "      <th></th>\n",
       "      <th>age</th>\n",
       "      <th>education</th>\n",
       "      <th>proof_submitted</th>\n",
       "      <th>loan_amount</th>\n",
       "      <th>asset_cost</th>\n",
       "      <th>no_of_loans</th>\n",
       "      <th>no_of_curr_loans</th>\n",
       "      <th>last_delinq_none</th>\n",
       "      <th>loan_default</th>\n",
       "    </tr>\n",
       "  </thead>\n",
       "  <tbody>\n",
       "    <tr>\n",
       "      <th>0</th>\n",
       "      <td>27</td>\n",
       "      <td>1.0</td>\n",
       "      <td>Aadhar</td>\n",
       "      <td>504264</td>\n",
       "      <td>820920</td>\n",
       "      <td>2</td>\n",
       "      <td>2</td>\n",
       "      <td>0</td>\n",
       "      <td>0</td>\n",
       "    </tr>\n",
       "    <tr>\n",
       "      <th>1</th>\n",
       "      <td>48</td>\n",
       "      <td>1.0</td>\n",
       "      <td>Aadhar</td>\n",
       "      <td>728556</td>\n",
       "      <td>831444</td>\n",
       "      <td>6</td>\n",
       "      <td>2</td>\n",
       "      <td>0</td>\n",
       "      <td>0</td>\n",
       "    </tr>\n",
       "    <tr>\n",
       "      <th>2</th>\n",
       "      <td>30</td>\n",
       "      <td>2.0</td>\n",
       "      <td>VoterID</td>\n",
       "      <td>642936</td>\n",
       "      <td>826092</td>\n",
       "      <td>0</td>\n",
       "      <td>0</td>\n",
       "      <td>0</td>\n",
       "      <td>1</td>\n",
       "    </tr>\n",
       "    <tr>\n",
       "      <th>3</th>\n",
       "      <td>28</td>\n",
       "      <td>1.0</td>\n",
       "      <td>Aadhar</td>\n",
       "      <td>746556</td>\n",
       "      <td>930924</td>\n",
       "      <td>0</td>\n",
       "      <td>0</td>\n",
       "      <td>0</td>\n",
       "      <td>0</td>\n",
       "    </tr>\n",
       "    <tr>\n",
       "      <th>4</th>\n",
       "      <td>29</td>\n",
       "      <td>1.0</td>\n",
       "      <td>Aadhar</td>\n",
       "      <td>1139880</td>\n",
       "      <td>1902000</td>\n",
       "      <td>0</td>\n",
       "      <td>0</td>\n",
       "      <td>0</td>\n",
       "      <td>0</td>\n",
       "    </tr>\n",
       "  </tbody>\n",
       "</table>\n",
       "</div>"
      ],
      "text/plain": [
       "   age  education proof_submitted  loan_amount  asset_cost  no_of_loans  \\\n",
       "0   27        1.0          Aadhar       504264      820920            2   \n",
       "1   48        1.0          Aadhar       728556      831444            6   \n",
       "2   30        2.0         VoterID       642936      826092            0   \n",
       "3   28        1.0          Aadhar       746556      930924            0   \n",
       "4   29        1.0          Aadhar      1139880     1902000            0   \n",
       "\n",
       "   no_of_curr_loans  last_delinq_none  loan_default  \n",
       "0                 2                 0             0  \n",
       "1                 2                 0             0  \n",
       "2                 0                 0             1  \n",
       "3                 0                 0             0  \n",
       "4                 0                 0             0  "
      ]
     },
     "execution_count": 232,
     "metadata": {},
     "output_type": "execute_result"
    }
   ],
   "source": [
    "# Removing the Loan id because no use for prediction\n",
    "\n",
    "Train_data1 =Train_data1.drop('loan_id',axis=1)\n",
    "\n",
    "# Displaying  after removing loan id\n",
    "\n",
    "Train_data1.head()"
   ]
  },
  {
   "cell_type": "code",
   "execution_count": 233,
   "id": "f14ba968",
   "metadata": {},
   "outputs": [],
   "source": [
    "# #Removing the outliers using IQR method\n",
    "\n",
    "# cols = ['asset_cost','loan_amount']\n",
    "\n",
    "# Q1 = np.percentile(Train_data1[cols] , 25)\n",
    "# Q3 = np.percentile(Train_data1[cols], 75)\n",
    "\n",
    "# IQR = Q3 - Q1\n",
    "\n",
    "# Train_data1 = Train_data1[~((Train_data1[cols] < (Q1 - 1.5 * IQR)) |(Train_data1[cols] > (Q3 + 1.5 * IQR))).any(axis=1)]"
   ]
  },
  {
   "cell_type": "code",
   "execution_count": 234,
   "id": "a0f9b909",
   "metadata": {},
   "outputs": [
    {
     "data": {
      "text/plain": [
       "age                 0\n",
       "education           0\n",
       "proof_submitted     0\n",
       "loan_amount         0\n",
       "asset_cost          0\n",
       "no_of_loans         0\n",
       "no_of_curr_loans    0\n",
       "last_delinq_none    0\n",
       "loan_default        0\n",
       "dtype: int64"
      ]
     },
     "execution_count": 234,
     "metadata": {},
     "output_type": "execute_result"
    }
   ],
   "source": [
    "# Missing value imputation wit mean\n",
    "\n",
    "Train_data1 = Train_data1.fillna(Train_data1['education'].mode()[0])\n",
    "\n",
    "#Checking after imputation of missing value is their or not\n",
    "\n",
    "Train_data1.isnull().sum()"
   ]
  },
  {
   "cell_type": "code",
   "execution_count": 235,
   "id": "884de0c9",
   "metadata": {
    "scrolled": true
   },
   "outputs": [
    {
     "data": {
      "text/plain": [
       "(7000, 9)"
      ]
     },
     "execution_count": 235,
     "metadata": {},
     "output_type": "execute_result"
    }
   ],
   "source": [
    "Train_data1.shape"
   ]
  },
  {
   "cell_type": "markdown",
   "id": "0b360d6e",
   "metadata": {},
   "source": [
    "## Encoding for categorical data"
   ]
  },
  {
   "cell_type": "code",
   "execution_count": 236,
   "id": "d272d172",
   "metadata": {},
   "outputs": [
    {
     "data": {
      "text/html": [
       "<div>\n",
       "<style scoped>\n",
       "    .dataframe tbody tr th:only-of-type {\n",
       "        vertical-align: middle;\n",
       "    }\n",
       "\n",
       "    .dataframe tbody tr th {\n",
       "        vertical-align: top;\n",
       "    }\n",
       "\n",
       "    .dataframe thead th {\n",
       "        text-align: right;\n",
       "    }\n",
       "</style>\n",
       "<table border=\"1\" class=\"dataframe\">\n",
       "  <thead>\n",
       "    <tr style=\"text-align: right;\">\n",
       "      <th></th>\n",
       "      <th>age</th>\n",
       "      <th>education</th>\n",
       "      <th>loan_amount</th>\n",
       "      <th>asset_cost</th>\n",
       "      <th>no_of_loans</th>\n",
       "      <th>no_of_curr_loans</th>\n",
       "      <th>last_delinq_none</th>\n",
       "      <th>loan_default</th>\n",
       "      <th>proof_submitted_Driving</th>\n",
       "      <th>proof_submitted_PAN</th>\n",
       "      <th>proof_submitted_Passport</th>\n",
       "      <th>proof_submitted_VoterID</th>\n",
       "    </tr>\n",
       "  </thead>\n",
       "  <tbody>\n",
       "    <tr>\n",
       "      <th>0</th>\n",
       "      <td>27</td>\n",
       "      <td>1.0</td>\n",
       "      <td>504264</td>\n",
       "      <td>820920</td>\n",
       "      <td>2</td>\n",
       "      <td>2</td>\n",
       "      <td>0</td>\n",
       "      <td>0</td>\n",
       "      <td>0</td>\n",
       "      <td>0</td>\n",
       "      <td>0</td>\n",
       "      <td>0</td>\n",
       "    </tr>\n",
       "    <tr>\n",
       "      <th>1</th>\n",
       "      <td>48</td>\n",
       "      <td>1.0</td>\n",
       "      <td>728556</td>\n",
       "      <td>831444</td>\n",
       "      <td>6</td>\n",
       "      <td>2</td>\n",
       "      <td>0</td>\n",
       "      <td>0</td>\n",
       "      <td>0</td>\n",
       "      <td>0</td>\n",
       "      <td>0</td>\n",
       "      <td>0</td>\n",
       "    </tr>\n",
       "    <tr>\n",
       "      <th>2</th>\n",
       "      <td>30</td>\n",
       "      <td>2.0</td>\n",
       "      <td>642936</td>\n",
       "      <td>826092</td>\n",
       "      <td>0</td>\n",
       "      <td>0</td>\n",
       "      <td>0</td>\n",
       "      <td>1</td>\n",
       "      <td>0</td>\n",
       "      <td>0</td>\n",
       "      <td>0</td>\n",
       "      <td>1</td>\n",
       "    </tr>\n",
       "    <tr>\n",
       "      <th>3</th>\n",
       "      <td>28</td>\n",
       "      <td>1.0</td>\n",
       "      <td>746556</td>\n",
       "      <td>930924</td>\n",
       "      <td>0</td>\n",
       "      <td>0</td>\n",
       "      <td>0</td>\n",
       "      <td>0</td>\n",
       "      <td>0</td>\n",
       "      <td>0</td>\n",
       "      <td>0</td>\n",
       "      <td>0</td>\n",
       "    </tr>\n",
       "    <tr>\n",
       "      <th>4</th>\n",
       "      <td>29</td>\n",
       "      <td>1.0</td>\n",
       "      <td>1139880</td>\n",
       "      <td>1902000</td>\n",
       "      <td>0</td>\n",
       "      <td>0</td>\n",
       "      <td>0</td>\n",
       "      <td>0</td>\n",
       "      <td>0</td>\n",
       "      <td>0</td>\n",
       "      <td>0</td>\n",
       "      <td>0</td>\n",
       "    </tr>\n",
       "  </tbody>\n",
       "</table>\n",
       "</div>"
      ],
      "text/plain": [
       "   age  education  loan_amount  asset_cost  no_of_loans  no_of_curr_loans  \\\n",
       "0   27        1.0       504264      820920            2                 2   \n",
       "1   48        1.0       728556      831444            6                 2   \n",
       "2   30        2.0       642936      826092            0                 0   \n",
       "3   28        1.0       746556      930924            0                 0   \n",
       "4   29        1.0      1139880     1902000            0                 0   \n",
       "\n",
       "   last_delinq_none  loan_default  proof_submitted_Driving  \\\n",
       "0                 0             0                        0   \n",
       "1                 0             0                        0   \n",
       "2                 0             1                        0   \n",
       "3                 0             0                        0   \n",
       "4                 0             0                        0   \n",
       "\n",
       "   proof_submitted_PAN  proof_submitted_Passport  proof_submitted_VoterID  \n",
       "0                    0                         0                        0  \n",
       "1                    0                         0                        0  \n",
       "2                    0                         0                        1  \n",
       "3                    0                         0                        0  \n",
       "4                    0                         0                        0  "
      ]
     },
     "execution_count": 236,
     "metadata": {},
     "output_type": "execute_result"
    }
   ],
   "source": [
    "#For categorical data convert into binary we can use get_dummies\n",
    "\n",
    "Train_data2 = pd.get_dummies(Train_data1,drop_first=True)\n",
    "\n",
    "Train_data2.head()"
   ]
  },
  {
   "cell_type": "code",
   "execution_count": 237,
   "id": "268cbf5a",
   "metadata": {},
   "outputs": [
    {
     "data": {
      "text/plain": [
       "(7000, 12)"
      ]
     },
     "execution_count": 237,
     "metadata": {},
     "output_type": "execute_result"
    }
   ],
   "source": [
    "# Shape of after encoding \n",
    "\n",
    "Train_data2.shape"
   ]
  },
  {
   "cell_type": "code",
   "execution_count": 238,
   "id": "c103f889",
   "metadata": {},
   "outputs": [],
   "source": [
    "# Split data into target and features\n",
    "\n",
    "x = Train_data2.drop('loan_default',axis =1) # Features\n",
    "\n",
    "y = Train_data2[['loan_default']] # Target"
   ]
  },
  {
   "cell_type": "code",
   "execution_count": 239,
   "id": "4ca9529c",
   "metadata": {},
   "outputs": [],
   "source": [
    "#Importing SMOTE\n",
    "\n",
    "from imblearn.over_sampling import SMOTE\n",
    "\n",
    "# Resampling the minority class. The strategy can be changed as required.\n",
    "\n",
    "sm = SMOTE(sampling_strategy='minority')\n",
    "\n",
    "# Fit the model to generate the data.\n",
    "\n",
    "x,y = sm.fit_resample(x,y)"
   ]
  },
  {
   "cell_type": "code",
   "execution_count": 240,
   "id": "1de0d8c9",
   "metadata": {},
   "outputs": [],
   "source": [
    "# StandardScaler\n",
    "\n",
    "from sklearn.preprocessing import RobustScaler\n",
    "scaler = RobustScaler() \n",
    "scaler.fit(x)\n",
    "X = scaler.fit_transform(x)"
   ]
  },
  {
   "cell_type": "markdown",
   "id": "67a558e5",
   "metadata": {},
   "source": [
    "## Train Test Split"
   ]
  },
  {
   "cell_type": "code",
   "execution_count": 275,
   "id": "6fc650b8",
   "metadata": {},
   "outputs": [
    {
     "name": "stdout",
     "output_type": "stream",
     "text": [
      "Shape of X_train  is : (5880, 11)\n",
      "Shape of X_test is: (2520, 11)\n",
      "Shape of y_train is : (5880, 1)\n",
      "Shape of y_test is : (2520, 1)\n"
     ]
    }
   ],
   "source": [
    "# split data into train subset and test subset\n",
    "\n",
    "from sklearn.model_selection import train_test_split\n",
    "X_train,X_test,y_train,y_test = train_test_split(X,y,test_size=0.30,random_state=42)\n",
    "print(\"Shape of X_train  is :\",X_train.shape)\n",
    "print(\"Shape of X_test is:\",X_test.shape)\n",
    "print(\"Shape of y_train is :\",y_train.shape)\n",
    "print(\"Shape of y_test is :\",y_test.shape)"
   ]
  },
  {
   "cell_type": "markdown",
   "id": "d00a3cfd",
   "metadata": {},
   "source": [
    "## Building a model"
   ]
  },
  {
   "cell_type": "code",
   "execution_count": 272,
   "id": "36458a5e",
   "metadata": {},
   "outputs": [
    {
     "name": "stderr",
     "output_type": "stream",
     "text": [
      "C:\\Users\\Bharatesh\\AppData\\Local\\Programs\\Python\\Python310\\lib\\site-packages\\sklearn\\neighbors\\_classification.py:200: DataConversionWarning: A column-vector y was passed when a 1d array was expected. Please change the shape of y to (n_samples,), for example using ravel().\n",
      "  return self._fit(X, y)\n"
     ]
    },
    {
     "data": {
      "text/html": [
       "<style>#sk-container-id-21 {color: black;background-color: white;}#sk-container-id-21 pre{padding: 0;}#sk-container-id-21 div.sk-toggleable {background-color: white;}#sk-container-id-21 label.sk-toggleable__label {cursor: pointer;display: block;width: 100%;margin-bottom: 0;padding: 0.3em;box-sizing: border-box;text-align: center;}#sk-container-id-21 label.sk-toggleable__label-arrow:before {content: \"▸\";float: left;margin-right: 0.25em;color: #696969;}#sk-container-id-21 label.sk-toggleable__label-arrow:hover:before {color: black;}#sk-container-id-21 div.sk-estimator:hover label.sk-toggleable__label-arrow:before {color: black;}#sk-container-id-21 div.sk-toggleable__content {max-height: 0;max-width: 0;overflow: hidden;text-align: left;background-color: #f0f8ff;}#sk-container-id-21 div.sk-toggleable__content pre {margin: 0.2em;color: black;border-radius: 0.25em;background-color: #f0f8ff;}#sk-container-id-21 input.sk-toggleable__control:checked~div.sk-toggleable__content {max-height: 200px;max-width: 100%;overflow: auto;}#sk-container-id-21 input.sk-toggleable__control:checked~label.sk-toggleable__label-arrow:before {content: \"▾\";}#sk-container-id-21 div.sk-estimator input.sk-toggleable__control:checked~label.sk-toggleable__label {background-color: #d4ebff;}#sk-container-id-21 div.sk-label input.sk-toggleable__control:checked~label.sk-toggleable__label {background-color: #d4ebff;}#sk-container-id-21 input.sk-hidden--visually {border: 0;clip: rect(1px 1px 1px 1px);clip: rect(1px, 1px, 1px, 1px);height: 1px;margin: -1px;overflow: hidden;padding: 0;position: absolute;width: 1px;}#sk-container-id-21 div.sk-estimator {font-family: monospace;background-color: #f0f8ff;border: 1px dotted black;border-radius: 0.25em;box-sizing: border-box;margin-bottom: 0.5em;}#sk-container-id-21 div.sk-estimator:hover {background-color: #d4ebff;}#sk-container-id-21 div.sk-parallel-item::after {content: \"\";width: 100%;border-bottom: 1px solid gray;flex-grow: 1;}#sk-container-id-21 div.sk-label:hover label.sk-toggleable__label {background-color: #d4ebff;}#sk-container-id-21 div.sk-serial::before {content: \"\";position: absolute;border-left: 1px solid gray;box-sizing: border-box;top: 0;bottom: 0;left: 50%;z-index: 0;}#sk-container-id-21 div.sk-serial {display: flex;flex-direction: column;align-items: center;background-color: white;padding-right: 0.2em;padding-left: 0.2em;position: relative;}#sk-container-id-21 div.sk-item {position: relative;z-index: 1;}#sk-container-id-21 div.sk-parallel {display: flex;align-items: stretch;justify-content: center;background-color: white;position: relative;}#sk-container-id-21 div.sk-item::before, #sk-container-id-21 div.sk-parallel-item::before {content: \"\";position: absolute;border-left: 1px solid gray;box-sizing: border-box;top: 0;bottom: 0;left: 50%;z-index: -1;}#sk-container-id-21 div.sk-parallel-item {display: flex;flex-direction: column;z-index: 1;position: relative;background-color: white;}#sk-container-id-21 div.sk-parallel-item:first-child::after {align-self: flex-end;width: 50%;}#sk-container-id-21 div.sk-parallel-item:last-child::after {align-self: flex-start;width: 50%;}#sk-container-id-21 div.sk-parallel-item:only-child::after {width: 0;}#sk-container-id-21 div.sk-dashed-wrapped {border: 1px dashed gray;margin: 0 0.4em 0.5em 0.4em;box-sizing: border-box;padding-bottom: 0.4em;background-color: white;}#sk-container-id-21 div.sk-label label {font-family: monospace;font-weight: bold;display: inline-block;line-height: 1.2em;}#sk-container-id-21 div.sk-label-container {text-align: center;}#sk-container-id-21 div.sk-container {/* jupyter's `normalize.less` sets `[hidden] { display: none; }` but bootstrap.min.css set `[hidden] { display: none !important; }` so we also need the `!important` here to be able to override the default hidden behavior on the sphinx rendered scikit-learn.org. See: https://github.com/scikit-learn/scikit-learn/issues/21755 */display: inline-block !important;position: relative;}#sk-container-id-21 div.sk-text-repr-fallback {display: none;}</style><div id=\"sk-container-id-21\" class=\"sk-top-container\"><div class=\"sk-text-repr-fallback\"><pre>KNeighborsClassifier(algorithm=&#x27;kd_tree&#x27;, n_jobs=2, p=3, weights=&#x27;distance&#x27;)</pre><b>In a Jupyter environment, please rerun this cell to show the HTML representation or trust the notebook. <br />On GitHub, the HTML representation is unable to render, please try loading this page with nbviewer.org.</b></div><div class=\"sk-container\" hidden><div class=\"sk-item\"><div class=\"sk-estimator sk-toggleable\"><input class=\"sk-toggleable__control sk-hidden--visually\" id=\"sk-estimator-id-23\" type=\"checkbox\" checked><label for=\"sk-estimator-id-23\" class=\"sk-toggleable__label sk-toggleable__label-arrow\">KNeighborsClassifier</label><div class=\"sk-toggleable__content\"><pre>KNeighborsClassifier(algorithm=&#x27;kd_tree&#x27;, n_jobs=2, p=3, weights=&#x27;distance&#x27;)</pre></div></div></div></div></div>"
      ],
      "text/plain": [
       "KNeighborsClassifier(algorithm='kd_tree', n_jobs=2, p=3, weights='distance')"
      ]
     },
     "execution_count": 272,
     "metadata": {},
     "output_type": "execute_result"
    }
   ],
   "source": [
    "#Fitting K-NN classifier to the training set  \n",
    "from sklearn.neighbors import KNeighborsClassifier  \n",
    "classifier= KNeighborsClassifier(n_neighbors=5, metric='minkowski', p=3 ,n_jobs=2,algorithm='kd_tree',weights ='distance')  \n",
    "classifier.fit(X_train, y_train)  "
   ]
  },
  {
   "cell_type": "code",
   "execution_count": 273,
   "id": "e1d5a1f0",
   "metadata": {},
   "outputs": [],
   "source": [
    "#Predict model using X_test\n",
    "\n",
    "prediction = classifier.predict(X_test)"
   ]
  },
  {
   "cell_type": "code",
   "execution_count": 274,
   "id": "ae2c6cfc",
   "metadata": {},
   "outputs": [
    {
     "name": "stdout",
     "output_type": "stream",
     "text": [
      "              precision    recall  f1-score   support\n",
      "\n",
      "           0       0.62      0.58      0.60       877\n",
      "           1       0.57      0.61      0.59       803\n",
      "\n",
      "    accuracy                           0.59      1680\n",
      "   macro avg       0.59      0.59      0.59      1680\n",
      "weighted avg       0.60      0.59      0.59      1680\n",
      "\n"
     ]
    }
   ],
   "source": [
    "#Classification Report for the model\n",
    "\n",
    "from sklearn.metrics import classification_report\n",
    "print(classification_report(y_test,prediction))"
   ]
  },
  {
   "cell_type": "markdown",
   "id": "c4d5a6b9",
   "metadata": {},
   "source": [
    "### Random Forest"
   ]
  },
  {
   "cell_type": "code",
   "execution_count": 276,
   "id": "01b08f3e",
   "metadata": {},
   "outputs": [
    {
     "name": "stderr",
     "output_type": "stream",
     "text": [
      "C:\\Users\\BHARAT~1\\AppData\\Local\\Temp/ipykernel_18512/1740706.py:6: DataConversionWarning: A column-vector y was passed when a 1d array was expected. Please change the shape of y to (n_samples,), for example using ravel().\n",
      "  RF_Model.fit(X_train,y_train)\n"
     ]
    },
    {
     "data": {
      "text/html": [
       "<style>#sk-container-id-22 {color: black;background-color: white;}#sk-container-id-22 pre{padding: 0;}#sk-container-id-22 div.sk-toggleable {background-color: white;}#sk-container-id-22 label.sk-toggleable__label {cursor: pointer;display: block;width: 100%;margin-bottom: 0;padding: 0.3em;box-sizing: border-box;text-align: center;}#sk-container-id-22 label.sk-toggleable__label-arrow:before {content: \"▸\";float: left;margin-right: 0.25em;color: #696969;}#sk-container-id-22 label.sk-toggleable__label-arrow:hover:before {color: black;}#sk-container-id-22 div.sk-estimator:hover label.sk-toggleable__label-arrow:before {color: black;}#sk-container-id-22 div.sk-toggleable__content {max-height: 0;max-width: 0;overflow: hidden;text-align: left;background-color: #f0f8ff;}#sk-container-id-22 div.sk-toggleable__content pre {margin: 0.2em;color: black;border-radius: 0.25em;background-color: #f0f8ff;}#sk-container-id-22 input.sk-toggleable__control:checked~div.sk-toggleable__content {max-height: 200px;max-width: 100%;overflow: auto;}#sk-container-id-22 input.sk-toggleable__control:checked~label.sk-toggleable__label-arrow:before {content: \"▾\";}#sk-container-id-22 div.sk-estimator input.sk-toggleable__control:checked~label.sk-toggleable__label {background-color: #d4ebff;}#sk-container-id-22 div.sk-label input.sk-toggleable__control:checked~label.sk-toggleable__label {background-color: #d4ebff;}#sk-container-id-22 input.sk-hidden--visually {border: 0;clip: rect(1px 1px 1px 1px);clip: rect(1px, 1px, 1px, 1px);height: 1px;margin: -1px;overflow: hidden;padding: 0;position: absolute;width: 1px;}#sk-container-id-22 div.sk-estimator {font-family: monospace;background-color: #f0f8ff;border: 1px dotted black;border-radius: 0.25em;box-sizing: border-box;margin-bottom: 0.5em;}#sk-container-id-22 div.sk-estimator:hover {background-color: #d4ebff;}#sk-container-id-22 div.sk-parallel-item::after {content: \"\";width: 100%;border-bottom: 1px solid gray;flex-grow: 1;}#sk-container-id-22 div.sk-label:hover label.sk-toggleable__label {background-color: #d4ebff;}#sk-container-id-22 div.sk-serial::before {content: \"\";position: absolute;border-left: 1px solid gray;box-sizing: border-box;top: 0;bottom: 0;left: 50%;z-index: 0;}#sk-container-id-22 div.sk-serial {display: flex;flex-direction: column;align-items: center;background-color: white;padding-right: 0.2em;padding-left: 0.2em;position: relative;}#sk-container-id-22 div.sk-item {position: relative;z-index: 1;}#sk-container-id-22 div.sk-parallel {display: flex;align-items: stretch;justify-content: center;background-color: white;position: relative;}#sk-container-id-22 div.sk-item::before, #sk-container-id-22 div.sk-parallel-item::before {content: \"\";position: absolute;border-left: 1px solid gray;box-sizing: border-box;top: 0;bottom: 0;left: 50%;z-index: -1;}#sk-container-id-22 div.sk-parallel-item {display: flex;flex-direction: column;z-index: 1;position: relative;background-color: white;}#sk-container-id-22 div.sk-parallel-item:first-child::after {align-self: flex-end;width: 50%;}#sk-container-id-22 div.sk-parallel-item:last-child::after {align-self: flex-start;width: 50%;}#sk-container-id-22 div.sk-parallel-item:only-child::after {width: 0;}#sk-container-id-22 div.sk-dashed-wrapped {border: 1px dashed gray;margin: 0 0.4em 0.5em 0.4em;box-sizing: border-box;padding-bottom: 0.4em;background-color: white;}#sk-container-id-22 div.sk-label label {font-family: monospace;font-weight: bold;display: inline-block;line-height: 1.2em;}#sk-container-id-22 div.sk-label-container {text-align: center;}#sk-container-id-22 div.sk-container {/* jupyter's `normalize.less` sets `[hidden] { display: none; }` but bootstrap.min.css set `[hidden] { display: none !important; }` so we also need the `!important` here to be able to override the default hidden behavior on the sphinx rendered scikit-learn.org. See: https://github.com/scikit-learn/scikit-learn/issues/21755 */display: inline-block !important;position: relative;}#sk-container-id-22 div.sk-text-repr-fallback {display: none;}</style><div id=\"sk-container-id-22\" class=\"sk-top-container\"><div class=\"sk-text-repr-fallback\"><pre>RandomForestClassifier(criterion=&#x27;entropy&#x27;, max_depth=100, max_features=2,\n",
       "                       min_samples_leaf=3, min_samples_split=10,\n",
       "                       n_estimators=1000, n_jobs=-1, random_state=42)</pre><b>In a Jupyter environment, please rerun this cell to show the HTML representation or trust the notebook. <br />On GitHub, the HTML representation is unable to render, please try loading this page with nbviewer.org.</b></div><div class=\"sk-container\" hidden><div class=\"sk-item\"><div class=\"sk-estimator sk-toggleable\"><input class=\"sk-toggleable__control sk-hidden--visually\" id=\"sk-estimator-id-24\" type=\"checkbox\" checked><label for=\"sk-estimator-id-24\" class=\"sk-toggleable__label sk-toggleable__label-arrow\">RandomForestClassifier</label><div class=\"sk-toggleable__content\"><pre>RandomForestClassifier(criterion=&#x27;entropy&#x27;, max_depth=100, max_features=2,\n",
       "                       min_samples_leaf=3, min_samples_split=10,\n",
       "                       n_estimators=1000, n_jobs=-1, random_state=42)</pre></div></div></div></div></div>"
      ],
      "text/plain": [
       "RandomForestClassifier(criterion='entropy', max_depth=100, max_features=2,\n",
       "                       min_samples_leaf=3, min_samples_split=10,\n",
       "                       n_estimators=1000, n_jobs=-1, random_state=42)"
      ]
     },
     "execution_count": 276,
     "metadata": {},
     "output_type": "execute_result"
    }
   ],
   "source": [
    "#Importing the RandomForestClassifier from sklearn\n",
    "\n",
    "from sklearn.ensemble import RandomForestClassifier   \n",
    "RF_Model = RandomForestClassifier(criterion='entropy',random_state=42,n_jobs=-1,max_depth =100,\n",
    "                                    max_features = 2,min_samples_leaf = 3,min_samples_split = 10,n_estimators=1000)\n",
    "RF_Model.fit(X_train,y_train) "
   ]
  },
  {
   "cell_type": "code",
   "execution_count": 277,
   "id": "78042304",
   "metadata": {},
   "outputs": [],
   "source": [
    "#Predict model using X_test\n",
    "\n",
    "prediction = RF_Model.predict(X_test)"
   ]
  },
  {
   "cell_type": "code",
   "execution_count": 278,
   "id": "75adba8a",
   "metadata": {},
   "outputs": [
    {
     "data": {
      "text/plain": [
       "array([1, 0, 0, ..., 0, 0, 0], dtype=int64)"
      ]
     },
     "execution_count": 278,
     "metadata": {},
     "output_type": "execute_result"
    }
   ],
   "source": [
    "prediction"
   ]
  },
  {
   "cell_type": "markdown",
   "id": "d5e22158",
   "metadata": {},
   "source": [
    "### Classification Report"
   ]
  },
  {
   "cell_type": "code",
   "execution_count": 279,
   "id": "c6c2df21",
   "metadata": {},
   "outputs": [
    {
     "name": "stdout",
     "output_type": "stream",
     "text": [
      "              precision    recall  f1-score   support\n",
      "\n",
      "           0       0.63      0.67      0.65      1320\n",
      "           1       0.61      0.58      0.59      1200\n",
      "\n",
      "    accuracy                           0.62      2520\n",
      "   macro avg       0.62      0.62      0.62      2520\n",
      "weighted avg       0.62      0.62      0.62      2520\n",
      "\n"
     ]
    }
   ],
   "source": [
    "#Classification Report for the model\n",
    "\n",
    "from sklearn.metrics import classification_report\n",
    "print(classification_report(y_test,prediction))"
   ]
  },
  {
   "cell_type": "markdown",
   "id": "7926815e",
   "metadata": {},
   "source": [
    "## Confusion Matrix"
   ]
  },
  {
   "cell_type": "code",
   "execution_count": 280,
   "id": "534f40db",
   "metadata": {},
   "outputs": [
    {
     "data": {
      "image/png": "[encoded data removed]",
      "text/plain": [
       "<Figure size 576x360 with 1 Axes>"
      ]
     },
     "metadata": {
      "needs_background": "light"
     },
     "output_type": "display_data"
    }
   ],
   "source": [
    "# compute the confusion matrix\n",
    "\n",
    "from sklearn.metrics import confusion_matrix\n",
    "cm = confusion_matrix(y_test, prediction) \n",
    "conf_matrix = pd.DataFrame(data=cm,columns=['Predicted:0','Predicted:1'],index=['Actual:0','Actual:1'])\n",
    "plt.figure(figsize = (8,5))\n",
    "sns.heatmap(conf_matrix, annot=True, fmt='d', cmap=\"coolwarm\", cbar=False)\n",
    "plt.show()"
   ]
  },
  {
   "cell_type": "markdown",
   "id": "3669dbb9",
   "metadata": {},
   "source": [
    "## ROC Curve"
   ]
  },
  {
   "cell_type": "code",
   "execution_count": 183,
   "id": "ed8a80c8",
   "metadata": {},
   "outputs": [
    {
     "data": {
      "image/png": "[encoded data removed]",
      "text/plain": [
       "<Figure size 432x288 with 1 Axes>"
      ]
     },
     "metadata": {
      "needs_background": "light"
     },
     "output_type": "display_data"
    }
   ],
   "source": [
    "import sklearn.metrics as metrics\n",
    "# calculate the fpr and tpr for all thresholds of the classification\n",
    "probs = RF_Model.predict_proba(X_test)\n",
    "preds = probs[:,1]\n",
    "fpr, tpr, threshold = metrics.roc_curve(y_test, preds)\n",
    "roc_auc = metrics.auc(fpr, tpr)\n",
    "\n",
    "plt.title('ROC Curve fron loan default prediction')\n",
    "plt.plot(fpr, tpr, 'b', label = 'AUC = %0.2f' % roc_auc)\n",
    "plt.legend(loc = 'lower right')\n",
    "plt.plot([0, 1], [0, 1],'r--')\n",
    "plt.xlim([0, 1])\n",
    "plt.ylim([0, 1])\n",
    "plt.ylabel('True Positive Rate')\n",
    "plt.xlabel('False Positive Rate')\n",
    "plt.show()"
   ]
  },
  {
   "cell_type": "markdown",
   "id": "a7f50008",
   "metadata": {},
   "source": [
    "# Inference"
   ]
  },
  {
   "cell_type": "code",
   "execution_count": 184,
   "id": "a110c7f3",
   "metadata": {},
   "outputs": [
    {
     "data": {
      "text/html": [
       "<div>\n",
       "<style scoped>\n",
       "    .dataframe tbody tr th:only-of-type {\n",
       "        vertical-align: middle;\n",
       "    }\n",
       "\n",
       "    .dataframe tbody tr th {\n",
       "        vertical-align: top;\n",
       "    }\n",
       "\n",
       "    .dataframe thead th {\n",
       "        text-align: right;\n",
       "    }\n",
       "</style>\n",
       "<table border=\"1\" class=\"dataframe\">\n",
       "  <thead>\n",
       "    <tr style=\"text-align: right;\">\n",
       "      <th></th>\n",
       "      <th>loan_id</th>\n",
       "      <th>age</th>\n",
       "      <th>education</th>\n",
       "      <th>proof_submitted</th>\n",
       "      <th>loan_amount</th>\n",
       "      <th>asset_cost</th>\n",
       "      <th>no_of_loans</th>\n",
       "      <th>no_of_curr_loans</th>\n",
       "      <th>last_delinq_none</th>\n",
       "    </tr>\n",
       "  </thead>\n",
       "  <tbody>\n",
       "    <tr>\n",
       "      <th>0</th>\n",
       "      <td>7001</td>\n",
       "      <td>29</td>\n",
       "      <td>1.0</td>\n",
       "      <td>Aadhar</td>\n",
       "      <td>636936</td>\n",
       "      <td>768240</td>\n",
       "      <td>2</td>\n",
       "      <td>2</td>\n",
       "      <td>0</td>\n",
       "    </tr>\n",
       "    <tr>\n",
       "      <th>1</th>\n",
       "      <td>7002</td>\n",
       "      <td>28</td>\n",
       "      <td>1.0</td>\n",
       "      <td>Aadhar</td>\n",
       "      <td>548988</td>\n",
       "      <td>693060</td>\n",
       "      <td>3</td>\n",
       "      <td>3</td>\n",
       "      <td>0</td>\n",
       "    </tr>\n",
       "    <tr>\n",
       "      <th>2</th>\n",
       "      <td>7003</td>\n",
       "      <td>28</td>\n",
       "      <td>1.0</td>\n",
       "      <td>Aadhar</td>\n",
       "      <td>651756</td>\n",
       "      <td>936600</td>\n",
       "      <td>0</td>\n",
       "      <td>0</td>\n",
       "      <td>0</td>\n",
       "    </tr>\n",
       "    <tr>\n",
       "      <th>3</th>\n",
       "      <td>7004</td>\n",
       "      <td>45</td>\n",
       "      <td>2.0</td>\n",
       "      <td>Aadhar</td>\n",
       "      <td>614676</td>\n",
       "      <td>744840</td>\n",
       "      <td>4</td>\n",
       "      <td>3</td>\n",
       "      <td>0</td>\n",
       "    </tr>\n",
       "    <tr>\n",
       "      <th>4</th>\n",
       "      <td>7005</td>\n",
       "      <td>48</td>\n",
       "      <td>1.0</td>\n",
       "      <td>Aadhar</td>\n",
       "      <td>625236</td>\n",
       "      <td>839400</td>\n",
       "      <td>0</td>\n",
       "      <td>0</td>\n",
       "      <td>0</td>\n",
       "    </tr>\n",
       "  </tbody>\n",
       "</table>\n",
       "</div>"
      ],
      "text/plain": [
       "   loan_id  age  education proof_submitted  loan_amount  asset_cost  \\\n",
       "0     7001   29        1.0          Aadhar       636936      768240   \n",
       "1     7002   28        1.0          Aadhar       548988      693060   \n",
       "2     7003   28        1.0          Aadhar       651756      936600   \n",
       "3     7004   45        2.0          Aadhar       614676      744840   \n",
       "4     7005   48        1.0          Aadhar       625236      839400   \n",
       "\n",
       "   no_of_loans  no_of_curr_loans  last_delinq_none  \n",
       "0            2                 2                 0  \n",
       "1            3                 3                 0  \n",
       "2            0                 0                 0  \n",
       "3            4                 3                 0  \n",
       "4            0                 0                 0  "
      ]
     },
     "execution_count": 184,
     "metadata": {},
     "output_type": "execute_result"
    }
   ],
   "source": [
    "#Load the data \n",
    "Test_data = pd.read_csv('Data Set/test_4zJg83n.csv')\n",
    "\n",
    "#Display the dataframe\n",
    "Test_data.head()"
   ]
  },
  {
   "cell_type": "code",
   "execution_count": 185,
   "id": "226b4f1e",
   "metadata": {},
   "outputs": [
    {
     "data": {
      "text/plain": [
       "(3000, 9)"
      ]
     },
     "execution_count": 185,
     "metadata": {},
     "output_type": "execute_result"
    }
   ],
   "source": [
    "# Checking the shape of the dataframe\n",
    "\n",
    "Test_data.shape"
   ]
  },
  {
   "cell_type": "code",
   "execution_count": 186,
   "id": "02b83de5",
   "metadata": {
    "scrolled": true
   },
   "outputs": [
    {
     "name": "stdout",
     "output_type": "stream",
     "text": [
      "<class 'pandas.core.frame.DataFrame'>\n",
      "RangeIndex: 3000 entries, 0 to 2999\n",
      "Data columns (total 9 columns):\n",
      " #   Column            Non-Null Count  Dtype  \n",
      "---  ------            --------------  -----  \n",
      " 0   loan_id           3000 non-null   int64  \n",
      " 1   age               3000 non-null   int64  \n",
      " 2   education         2908 non-null   float64\n",
      " 3   proof_submitted   3000 non-null   object \n",
      " 4   loan_amount       3000 non-null   int64  \n",
      " 5   asset_cost        3000 non-null   int64  \n",
      " 6   no_of_loans       3000 non-null   int64  \n",
      " 7   no_of_curr_loans  3000 non-null   int64  \n",
      " 8   last_delinq_none  3000 non-null   int64  \n",
      "dtypes: float64(1), int64(7), object(1)\n",
      "memory usage: 211.1+ KB\n"
     ]
    }
   ],
   "source": [
    "#Here we can see the data type of the features\n",
    "\n",
    "Test_data.info()"
   ]
  },
  {
   "cell_type": "code",
   "execution_count": 187,
   "id": "70f2942d",
   "metadata": {},
   "outputs": [
    {
     "data": {
      "text/html": [
       "<div>\n",
       "<style scoped>\n",
       "    .dataframe tbody tr th:only-of-type {\n",
       "        vertical-align: middle;\n",
       "    }\n",
       "\n",
       "    .dataframe tbody tr th {\n",
       "        vertical-align: top;\n",
       "    }\n",
       "\n",
       "    .dataframe thead th {\n",
       "        text-align: right;\n",
       "    }\n",
       "</style>\n",
       "<table border=\"1\" class=\"dataframe\">\n",
       "  <thead>\n",
       "    <tr style=\"text-align: right;\">\n",
       "      <th></th>\n",
       "      <th>count</th>\n",
       "      <th>mean</th>\n",
       "      <th>std</th>\n",
       "      <th>min</th>\n",
       "      <th>25%</th>\n",
       "      <th>50%</th>\n",
       "      <th>75%</th>\n",
       "      <th>max</th>\n",
       "    </tr>\n",
       "  </thead>\n",
       "  <tbody>\n",
       "    <tr>\n",
       "      <th>loan_id</th>\n",
       "      <td>3000.0</td>\n",
       "      <td>8500.500000</td>\n",
       "      <td>866.169729</td>\n",
       "      <td>7001.0</td>\n",
       "      <td>7750.75</td>\n",
       "      <td>8500.5</td>\n",
       "      <td>9250.25</td>\n",
       "      <td>10000.0</td>\n",
       "    </tr>\n",
       "    <tr>\n",
       "      <th>age</th>\n",
       "      <td>3000.0</td>\n",
       "      <td>36.111000</td>\n",
       "      <td>7.467347</td>\n",
       "      <td>21.0</td>\n",
       "      <td>30.00</td>\n",
       "      <td>36.0</td>\n",
       "      <td>42.00</td>\n",
       "      <td>50.0</td>\n",
       "    </tr>\n",
       "    <tr>\n",
       "      <th>education</th>\n",
       "      <td>2908.0</td>\n",
       "      <td>1.563618</td>\n",
       "      <td>0.496022</td>\n",
       "      <td>1.0</td>\n",
       "      <td>1.00</td>\n",
       "      <td>2.0</td>\n",
       "      <td>2.00</td>\n",
       "      <td>2.0</td>\n",
       "    </tr>\n",
       "    <tr>\n",
       "      <th>loan_amount</th>\n",
       "      <td>3000.0</td>\n",
       "      <td>662929.428000</td>\n",
       "      <td>145100.871195</td>\n",
       "      <td>169680.0</td>\n",
       "      <td>580188.00</td>\n",
       "      <td>654156.0</td>\n",
       "      <td>731559.00</td>\n",
       "      <td>1576920.0</td>\n",
       "    </tr>\n",
       "    <tr>\n",
       "      <th>asset_cost</th>\n",
       "      <td>3000.0</td>\n",
       "      <td>910600.048000</td>\n",
       "      <td>207027.831407</td>\n",
       "      <td>470604.0</td>\n",
       "      <td>793071.00</td>\n",
       "      <td>856908.0</td>\n",
       "      <td>950136.00</td>\n",
       "      <td>2358180.0</td>\n",
       "    </tr>\n",
       "    <tr>\n",
       "      <th>no_of_loans</th>\n",
       "      <td>3000.0</td>\n",
       "      <td>2.819000</td>\n",
       "      <td>5.329575</td>\n",
       "      <td>0.0</td>\n",
       "      <td>0.00</td>\n",
       "      <td>0.0</td>\n",
       "      <td>4.00</td>\n",
       "      <td>92.0</td>\n",
       "    </tr>\n",
       "    <tr>\n",
       "      <th>no_of_curr_loans</th>\n",
       "      <td>3000.0</td>\n",
       "      <td>1.374333</td>\n",
       "      <td>2.218825</td>\n",
       "      <td>0.0</td>\n",
       "      <td>0.00</td>\n",
       "      <td>0.0</td>\n",
       "      <td>2.00</td>\n",
       "      <td>32.0</td>\n",
       "    </tr>\n",
       "    <tr>\n",
       "      <th>last_delinq_none</th>\n",
       "      <td>3000.0</td>\n",
       "      <td>0.014333</td>\n",
       "      <td>0.118881</td>\n",
       "      <td>0.0</td>\n",
       "      <td>0.00</td>\n",
       "      <td>0.0</td>\n",
       "      <td>0.00</td>\n",
       "      <td>1.0</td>\n",
       "    </tr>\n",
       "  </tbody>\n",
       "</table>\n",
       "</div>"
      ],
      "text/plain": [
       "                   count           mean            std       min        25%  \\\n",
       "loan_id           3000.0    8500.500000     866.169729    7001.0    7750.75   \n",
       "age               3000.0      36.111000       7.467347      21.0      30.00   \n",
       "education         2908.0       1.563618       0.496022       1.0       1.00   \n",
       "loan_amount       3000.0  662929.428000  145100.871195  169680.0  580188.00   \n",
       "asset_cost        3000.0  910600.048000  207027.831407  470604.0  793071.00   \n",
       "no_of_loans       3000.0       2.819000       5.329575       0.0       0.00   \n",
       "no_of_curr_loans  3000.0       1.374333       2.218825       0.0       0.00   \n",
       "last_delinq_none  3000.0       0.014333       0.118881       0.0       0.00   \n",
       "\n",
       "                       50%        75%        max  \n",
       "loan_id             8500.5    9250.25    10000.0  \n",
       "age                   36.0      42.00       50.0  \n",
       "education              2.0       2.00        2.0  \n",
       "loan_amount       654156.0  731559.00  1576920.0  \n",
       "asset_cost        856908.0  950136.00  2358180.0  \n",
       "no_of_loans            0.0       4.00       92.0  \n",
       "no_of_curr_loans       0.0       2.00       32.0  \n",
       "last_delinq_none       0.0       0.00        1.0  "
      ]
     },
     "execution_count": 187,
     "metadata": {},
     "output_type": "execute_result"
    }
   ],
   "source": [
    "# By using Describe we can see the suumary of the numerical data\n",
    "\n",
    "Test_data.describe().transpose()"
   ]
  },
  {
   "cell_type": "code",
   "execution_count": 188,
   "id": "a4ecf3e8",
   "metadata": {},
   "outputs": [
    {
     "data": {
      "text/html": [
       "<div>\n",
       "<style scoped>\n",
       "    .dataframe tbody tr th:only-of-type {\n",
       "        vertical-align: middle;\n",
       "    }\n",
       "\n",
       "    .dataframe tbody tr th {\n",
       "        vertical-align: top;\n",
       "    }\n",
       "\n",
       "    .dataframe thead th {\n",
       "        text-align: right;\n",
       "    }\n",
       "</style>\n",
       "<table border=\"1\" class=\"dataframe\">\n",
       "  <thead>\n",
       "    <tr style=\"text-align: right;\">\n",
       "      <th></th>\n",
       "      <th>proof_submitted</th>\n",
       "    </tr>\n",
       "  </thead>\n",
       "  <tbody>\n",
       "    <tr>\n",
       "      <th>count</th>\n",
       "      <td>3000</td>\n",
       "    </tr>\n",
       "    <tr>\n",
       "      <th>unique</th>\n",
       "      <td>5</td>\n",
       "    </tr>\n",
       "    <tr>\n",
       "      <th>top</th>\n",
       "      <td>Aadhar</td>\n",
       "    </tr>\n",
       "    <tr>\n",
       "      <th>freq</th>\n",
       "      <td>2545</td>\n",
       "    </tr>\n",
       "  </tbody>\n",
       "</table>\n",
       "</div>"
      ],
      "text/plain": [
       "       proof_submitted\n",
       "count             3000\n",
       "unique               5\n",
       "top             Aadhar\n",
       "freq              2545"
      ]
     },
     "execution_count": 188,
     "metadata": {},
     "output_type": "execute_result"
    }
   ],
   "source": [
    "# Summary of categorigal data\n",
    "\n",
    "Test_data.describe(include = object)\n"
   ]
  },
  {
   "cell_type": "code",
   "execution_count": 189,
   "id": "a1e5cf00",
   "metadata": {
    "scrolled": true
   },
   "outputs": [
    {
     "data": {
      "text/plain": [
       "loan_id              0\n",
       "age                  0\n",
       "education           92\n",
       "proof_submitted      0\n",
       "loan_amount          0\n",
       "asset_cost           0\n",
       "no_of_loans          0\n",
       "no_of_curr_loans     0\n",
       "last_delinq_none     0\n",
       "dtype: int64"
      ]
     },
     "execution_count": 189,
     "metadata": {},
     "output_type": "execute_result"
    }
   ],
   "source": [
    "#Checking the missing values \n",
    "\n",
    "Test_data.isnull().sum()"
   ]
  },
  {
   "cell_type": "code",
   "execution_count": 190,
   "id": "6ab38863",
   "metadata": {},
   "outputs": [
    {
     "data": {
      "text/html": [
       "<div>\n",
       "<style scoped>\n",
       "    .dataframe tbody tr th:only-of-type {\n",
       "        vertical-align: middle;\n",
       "    }\n",
       "\n",
       "    .dataframe tbody tr th {\n",
       "        vertical-align: top;\n",
       "    }\n",
       "\n",
       "    .dataframe thead th {\n",
       "        text-align: right;\n",
       "    }\n",
       "</style>\n",
       "<table border=\"1\" class=\"dataframe\">\n",
       "  <thead>\n",
       "    <tr style=\"text-align: right;\">\n",
       "      <th></th>\n",
       "      <th>loan_id</th>\n",
       "    </tr>\n",
       "  </thead>\n",
       "  <tbody>\n",
       "    <tr>\n",
       "      <th>0</th>\n",
       "      <td>7001</td>\n",
       "    </tr>\n",
       "    <tr>\n",
       "      <th>1</th>\n",
       "      <td>7002</td>\n",
       "    </tr>\n",
       "    <tr>\n",
       "      <th>2</th>\n",
       "      <td>7003</td>\n",
       "    </tr>\n",
       "    <tr>\n",
       "      <th>3</th>\n",
       "      <td>7004</td>\n",
       "    </tr>\n",
       "    <tr>\n",
       "      <th>4</th>\n",
       "      <td>7005</td>\n",
       "    </tr>\n",
       "  </tbody>\n",
       "</table>\n",
       "</div>"
      ],
      "text/plain": [
       "   loan_id\n",
       "0     7001\n",
       "1     7002\n",
       "2     7003\n",
       "3     7004\n",
       "4     7005"
      ]
     },
     "execution_count": 190,
     "metadata": {},
     "output_type": "execute_result"
    }
   ],
   "source": [
    "#Copying the ID for furtur reference\n",
    "\n",
    "ID = Test_data[['loan_id']].copy()\n",
    "ID.head()"
   ]
  },
  {
   "cell_type": "code",
   "execution_count": 191,
   "id": "7efc51ab",
   "metadata": {},
   "outputs": [
    {
     "data": {
      "text/html": [
       "<div>\n",
       "<style scoped>\n",
       "    .dataframe tbody tr th:only-of-type {\n",
       "        vertical-align: middle;\n",
       "    }\n",
       "\n",
       "    .dataframe tbody tr th {\n",
       "        vertical-align: top;\n",
       "    }\n",
       "\n",
       "    .dataframe thead th {\n",
       "        text-align: right;\n",
       "    }\n",
       "</style>\n",
       "<table border=\"1\" class=\"dataframe\">\n",
       "  <thead>\n",
       "    <tr style=\"text-align: right;\">\n",
       "      <th></th>\n",
       "      <th>age</th>\n",
       "      <th>education</th>\n",
       "      <th>proof_submitted</th>\n",
       "      <th>loan_amount</th>\n",
       "      <th>asset_cost</th>\n",
       "      <th>no_of_loans</th>\n",
       "      <th>no_of_curr_loans</th>\n",
       "      <th>last_delinq_none</th>\n",
       "    </tr>\n",
       "  </thead>\n",
       "  <tbody>\n",
       "    <tr>\n",
       "      <th>0</th>\n",
       "      <td>29</td>\n",
       "      <td>1.0</td>\n",
       "      <td>Aadhar</td>\n",
       "      <td>636936</td>\n",
       "      <td>768240</td>\n",
       "      <td>2</td>\n",
       "      <td>2</td>\n",
       "      <td>0</td>\n",
       "    </tr>\n",
       "    <tr>\n",
       "      <th>1</th>\n",
       "      <td>28</td>\n",
       "      <td>1.0</td>\n",
       "      <td>Aadhar</td>\n",
       "      <td>548988</td>\n",
       "      <td>693060</td>\n",
       "      <td>3</td>\n",
       "      <td>3</td>\n",
       "      <td>0</td>\n",
       "    </tr>\n",
       "    <tr>\n",
       "      <th>2</th>\n",
       "      <td>28</td>\n",
       "      <td>1.0</td>\n",
       "      <td>Aadhar</td>\n",
       "      <td>651756</td>\n",
       "      <td>936600</td>\n",
       "      <td>0</td>\n",
       "      <td>0</td>\n",
       "      <td>0</td>\n",
       "    </tr>\n",
       "    <tr>\n",
       "      <th>3</th>\n",
       "      <td>45</td>\n",
       "      <td>2.0</td>\n",
       "      <td>Aadhar</td>\n",
       "      <td>614676</td>\n",
       "      <td>744840</td>\n",
       "      <td>4</td>\n",
       "      <td>3</td>\n",
       "      <td>0</td>\n",
       "    </tr>\n",
       "    <tr>\n",
       "      <th>4</th>\n",
       "      <td>48</td>\n",
       "      <td>1.0</td>\n",
       "      <td>Aadhar</td>\n",
       "      <td>625236</td>\n",
       "      <td>839400</td>\n",
       "      <td>0</td>\n",
       "      <td>0</td>\n",
       "      <td>0</td>\n",
       "    </tr>\n",
       "  </tbody>\n",
       "</table>\n",
       "</div>"
      ],
      "text/plain": [
       "   age  education proof_submitted  loan_amount  asset_cost  no_of_loans  \\\n",
       "0   29        1.0          Aadhar       636936      768240            2   \n",
       "1   28        1.0          Aadhar       548988      693060            3   \n",
       "2   28        1.0          Aadhar       651756      936600            0   \n",
       "3   45        2.0          Aadhar       614676      744840            4   \n",
       "4   48        1.0          Aadhar       625236      839400            0   \n",
       "\n",
       "   no_of_curr_loans  last_delinq_none  \n",
       "0                 2                 0  \n",
       "1                 3                 0  \n",
       "2                 0                 0  \n",
       "3                 3                 0  \n",
       "4                 0                 0  "
      ]
     },
     "execution_count": 191,
     "metadata": {},
     "output_type": "execute_result"
    }
   ],
   "source": [
    "# Removing the Loan id because no use for prediction\n",
    "\n",
    "Test_data =Test_data.drop('loan_id',axis=1)\n",
    "\n",
    "# Displaying  after removing loan id\n",
    "\n",
    "Test_data.head()"
   ]
  },
  {
   "cell_type": "code",
   "execution_count": 192,
   "id": "bc45e581",
   "metadata": {},
   "outputs": [
    {
     "data": {
      "text/plain": [
       "age                 0\n",
       "education           0\n",
       "proof_submitted     0\n",
       "loan_amount         0\n",
       "asset_cost          0\n",
       "no_of_loans         0\n",
       "no_of_curr_loans    0\n",
       "last_delinq_none    0\n",
       "dtype: int64"
      ]
     },
     "execution_count": 192,
     "metadata": {},
     "output_type": "execute_result"
    }
   ],
   "source": [
    "# Missing value imputation wit mean\n",
    "\n",
    "Test_data = Test_data.fillna(Test_data['education'].mode()[0])\n",
    "\n",
    "#Checking after imputation of missing value is their or not\n",
    "\n",
    "Test_data.isnull().sum()"
   ]
  },
  {
   "cell_type": "code",
   "execution_count": 193,
   "id": "1047b49a",
   "metadata": {},
   "outputs": [
    {
     "data": {
      "text/html": [
       "<div>\n",
       "<style scoped>\n",
       "    .dataframe tbody tr th:only-of-type {\n",
       "        vertical-align: middle;\n",
       "    }\n",
       "\n",
       "    .dataframe tbody tr th {\n",
       "        vertical-align: top;\n",
       "    }\n",
       "\n",
       "    .dataframe thead th {\n",
       "        text-align: right;\n",
       "    }\n",
       "</style>\n",
       "<table border=\"1\" class=\"dataframe\">\n",
       "  <thead>\n",
       "    <tr style=\"text-align: right;\">\n",
       "      <th></th>\n",
       "      <th>age</th>\n",
       "      <th>education</th>\n",
       "      <th>loan_amount</th>\n",
       "      <th>asset_cost</th>\n",
       "      <th>no_of_loans</th>\n",
       "      <th>no_of_curr_loans</th>\n",
       "      <th>last_delinq_none</th>\n",
       "      <th>proof_submitted_Driving</th>\n",
       "      <th>proof_submitted_PAN</th>\n",
       "      <th>proof_submitted_Passport</th>\n",
       "      <th>proof_submitted_VoterID</th>\n",
       "    </tr>\n",
       "  </thead>\n",
       "  <tbody>\n",
       "    <tr>\n",
       "      <th>0</th>\n",
       "      <td>29</td>\n",
       "      <td>1.0</td>\n",
       "      <td>636936</td>\n",
       "      <td>768240</td>\n",
       "      <td>2</td>\n",
       "      <td>2</td>\n",
       "      <td>0</td>\n",
       "      <td>0</td>\n",
       "      <td>0</td>\n",
       "      <td>0</td>\n",
       "      <td>0</td>\n",
       "    </tr>\n",
       "    <tr>\n",
       "      <th>1</th>\n",
       "      <td>28</td>\n",
       "      <td>1.0</td>\n",
       "      <td>548988</td>\n",
       "      <td>693060</td>\n",
       "      <td>3</td>\n",
       "      <td>3</td>\n",
       "      <td>0</td>\n",
       "      <td>0</td>\n",
       "      <td>0</td>\n",
       "      <td>0</td>\n",
       "      <td>0</td>\n",
       "    </tr>\n",
       "    <tr>\n",
       "      <th>2</th>\n",
       "      <td>28</td>\n",
       "      <td>1.0</td>\n",
       "      <td>651756</td>\n",
       "      <td>936600</td>\n",
       "      <td>0</td>\n",
       "      <td>0</td>\n",
       "      <td>0</td>\n",
       "      <td>0</td>\n",
       "      <td>0</td>\n",
       "      <td>0</td>\n",
       "      <td>0</td>\n",
       "    </tr>\n",
       "    <tr>\n",
       "      <th>3</th>\n",
       "      <td>45</td>\n",
       "      <td>2.0</td>\n",
       "      <td>614676</td>\n",
       "      <td>744840</td>\n",
       "      <td>4</td>\n",
       "      <td>3</td>\n",
       "      <td>0</td>\n",
       "      <td>0</td>\n",
       "      <td>0</td>\n",
       "      <td>0</td>\n",
       "      <td>0</td>\n",
       "    </tr>\n",
       "    <tr>\n",
       "      <th>4</th>\n",
       "      <td>48</td>\n",
       "      <td>1.0</td>\n",
       "      <td>625236</td>\n",
       "      <td>839400</td>\n",
       "      <td>0</td>\n",
       "      <td>0</td>\n",
       "      <td>0</td>\n",
       "      <td>0</td>\n",
       "      <td>0</td>\n",
       "      <td>0</td>\n",
       "      <td>0</td>\n",
       "    </tr>\n",
       "  </tbody>\n",
       "</table>\n",
       "</div>"
      ],
      "text/plain": [
       "   age  education  loan_amount  asset_cost  no_of_loans  no_of_curr_loans  \\\n",
       "0   29        1.0       636936      768240            2                 2   \n",
       "1   28        1.0       548988      693060            3                 3   \n",
       "2   28        1.0       651756      936600            0                 0   \n",
       "3   45        2.0       614676      744840            4                 3   \n",
       "4   48        1.0       625236      839400            0                 0   \n",
       "\n",
       "   last_delinq_none  proof_submitted_Driving  proof_submitted_PAN  \\\n",
       "0                 0                        0                    0   \n",
       "1                 0                        0                    0   \n",
       "2                 0                        0                    0   \n",
       "3                 0                        0                    0   \n",
       "4                 0                        0                    0   \n",
       "\n",
       "   proof_submitted_Passport  proof_submitted_VoterID  \n",
       "0                         0                        0  \n",
       "1                         0                        0  \n",
       "2                         0                        0  \n",
       "3                         0                        0  \n",
       "4                         0                        0  "
      ]
     },
     "execution_count": 193,
     "metadata": {},
     "output_type": "execute_result"
    }
   ],
   "source": [
    "#For categorical data convert into binary we can use get_dummies\n",
    "\n",
    "Test_data = pd.get_dummies(Test_data,drop_first=True)\n",
    "\n",
    "Test_data.head()"
   ]
  },
  {
   "cell_type": "code",
   "execution_count": 194,
   "id": "22832bee",
   "metadata": {},
   "outputs": [
    {
     "data": {
      "text/plain": [
       "(3000, 11)"
      ]
     },
     "execution_count": 194,
     "metadata": {},
     "output_type": "execute_result"
    }
   ],
   "source": [
    "#shape after encoding\n",
    "\n",
    "Test_data.shape"
   ]
  },
  {
   "cell_type": "code",
   "execution_count": 195,
   "id": "de2c4572",
   "metadata": {},
   "outputs": [],
   "source": [
    "# Robust Scaling\n",
    "\n",
    "Test_data_Scaled = scaler.transform(Test_data)"
   ]
  },
  {
   "cell_type": "code",
   "execution_count": 281,
   "id": "1fd7bd86",
   "metadata": {},
   "outputs": [
    {
     "data": {
      "text/plain": [
       "array([0, 0, 0, ..., 0, 0, 0], dtype=int64)"
      ]
     },
     "execution_count": 281,
     "metadata": {},
     "output_type": "execute_result"
    }
   ],
   "source": [
    "#Predict using Model\n",
    "\n",
    "Predict_Test  = RF_Model.predict(Test_data_Scaled)\n",
    "Predict_Test"
   ]
  },
  {
   "cell_type": "code",
   "execution_count": 282,
   "id": "4dc84efc",
   "metadata": {},
   "outputs": [
    {
     "data": {
      "text/html": [
       "<div>\n",
       "<style scoped>\n",
       "    .dataframe tbody tr th:only-of-type {\n",
       "        vertical-align: middle;\n",
       "    }\n",
       "\n",
       "    .dataframe tbody tr th {\n",
       "        vertical-align: top;\n",
       "    }\n",
       "\n",
       "    .dataframe thead th {\n",
       "        text-align: right;\n",
       "    }\n",
       "</style>\n",
       "<table border=\"1\" class=\"dataframe\">\n",
       "  <thead>\n",
       "    <tr style=\"text-align: right;\">\n",
       "      <th></th>\n",
       "      <th>loan_default</th>\n",
       "    </tr>\n",
       "  </thead>\n",
       "  <tbody>\n",
       "    <tr>\n",
       "      <th>0</th>\n",
       "      <td>0</td>\n",
       "    </tr>\n",
       "    <tr>\n",
       "      <th>1</th>\n",
       "      <td>0</td>\n",
       "    </tr>\n",
       "    <tr>\n",
       "      <th>2</th>\n",
       "      <td>0</td>\n",
       "    </tr>\n",
       "    <tr>\n",
       "      <th>3</th>\n",
       "      <td>0</td>\n",
       "    </tr>\n",
       "    <tr>\n",
       "      <th>4</th>\n",
       "      <td>1</td>\n",
       "    </tr>\n",
       "  </tbody>\n",
       "</table>\n",
       "</div>"
      ],
      "text/plain": [
       "   loan_default\n",
       "0             0\n",
       "1             0\n",
       "2             0\n",
       "3             0\n",
       "4             1"
      ]
     },
     "execution_count": 282,
     "metadata": {},
     "output_type": "execute_result"
    }
   ],
   "source": [
    "#Creating the dataframe for prediction\n",
    "\n",
    "dataframe = pd.DataFrame(Predict_Test,columns=['loan_default'])\n",
    "dataframe.head()"
   ]
  },
  {
   "cell_type": "code",
   "execution_count": 283,
   "id": "984e5f07",
   "metadata": {},
   "outputs": [
    {
     "data": {
      "text/html": [
       "<div>\n",
       "<style scoped>\n",
       "    .dataframe tbody tr th:only-of-type {\n",
       "        vertical-align: middle;\n",
       "    }\n",
       "\n",
       "    .dataframe tbody tr th {\n",
       "        vertical-align: top;\n",
       "    }\n",
       "\n",
       "    .dataframe thead th {\n",
       "        text-align: right;\n",
       "    }\n",
       "</style>\n",
       "<table border=\"1\" class=\"dataframe\">\n",
       "  <thead>\n",
       "    <tr style=\"text-align: right;\">\n",
       "      <th></th>\n",
       "      <th>loan_id</th>\n",
       "      <th>loan_default</th>\n",
       "    </tr>\n",
       "  </thead>\n",
       "  <tbody>\n",
       "    <tr>\n",
       "      <th>0</th>\n",
       "      <td>7001</td>\n",
       "      <td>0</td>\n",
       "    </tr>\n",
       "    <tr>\n",
       "      <th>1</th>\n",
       "      <td>7002</td>\n",
       "      <td>0</td>\n",
       "    </tr>\n",
       "    <tr>\n",
       "      <th>2</th>\n",
       "      <td>7003</td>\n",
       "      <td>0</td>\n",
       "    </tr>\n",
       "    <tr>\n",
       "      <th>3</th>\n",
       "      <td>7004</td>\n",
       "      <td>0</td>\n",
       "    </tr>\n",
       "    <tr>\n",
       "      <th>4</th>\n",
       "      <td>7005</td>\n",
       "      <td>1</td>\n",
       "    </tr>\n",
       "  </tbody>\n",
       "</table>\n",
       "</div>"
      ],
      "text/plain": [
       "   loan_id  loan_default\n",
       "0     7001             0\n",
       "1     7002             0\n",
       "2     7003             0\n",
       "3     7004             0\n",
       "4     7005             1"
      ]
     },
     "execution_count": 283,
     "metadata": {},
     "output_type": "execute_result"
    }
   ],
   "source": [
    "#Concate the two dataframe\n",
    "DataFrame = pd.concat([ID,dataframe],axis=1)\n",
    "DataFrame.head()"
   ]
  },
  {
   "cell_type": "code",
   "execution_count": 271,
   "id": "a64ac8ee",
   "metadata": {},
   "outputs": [],
   "source": [
    "#Converting the dataframe into csv file\n",
    "\n",
    "DataFrame.to_csv(\"KNN_Prediction.csv\",index=False)"
   ]
  },
  {
   "cell_type": "code",
   "execution_count": null,
   "id": "4e2c74af",
   "metadata": {},
   "outputs": [],
   "source": []
  }
 ],
 "metadata": {
  "kernelspec": {
   "display_name": "Python 3 (ipykernel)",
   "language": "python",
   "name": "python3"
  },
  "language_info": {
   "codemirror_mode": {
    "name": "ipython",
    "version": 3
   },
   "file_extension": ".py",
   "mimetype": "text/x-python",
   "name": "python",
   "nbconvert_exporter": "python",
   "pygments_lexer": "ipython3",
   "version": "3.10.1"
  }
 },
 "nbformat": 4,
 "nbformat_minor": 5
}
